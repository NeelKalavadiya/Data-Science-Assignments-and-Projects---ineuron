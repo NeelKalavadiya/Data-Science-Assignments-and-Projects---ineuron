{
 "cells": [
  {
   "cell_type": "markdown",
   "id": "6c18202f",
   "metadata": {},
   "source": [
    "# Assignment_2 - Operators and Loops"
   ]
  },
  {
   "cell_type": "markdown",
   "id": "b2f517d8",
   "metadata": {},
   "source": [
    "### Author : Neelkumar Kalavadiya\n",
    "### Submission Date : 15/05/2022"
   ]
  },
  {
   "cell_type": "markdown",
   "id": "af4868d6",
   "metadata": {},
   "source": [
    "<hr>Q1.What are the two values of the Boolean data type? How do you write them?\n",
    "\n",
    "<b>Solution:\n",
    "* Two Values of Boolean data type are True and False<br><br>\n",
    "* And they are written as <b>True</b> and <b>False</b> with T and F capital and same is shown in below code snippet."
   ]
  },
  {
   "cell_type": "code",
   "execution_count": 2,
   "id": "27c3d79d",
   "metadata": {},
   "outputs": [
    {
     "name": "stdout",
     "output_type": "stream",
     "text": [
      "True\n",
      "<class 'bool'>\n",
      "\n",
      "False\n",
      "<class 'bool'>\n"
     ]
    }
   ],
   "source": [
    "b = True\n",
    "print(b)\n",
    "print(type(b))\n",
    "print()\n",
    "\n",
    "d = False\n",
    "print(d)\n",
    "print(type(d))"
   ]
  },
  {
   "cell_type": "markdown",
   "id": "fd0d1538",
   "metadata": {},
   "source": [
    "<hr>Q2. What are the three different types of Boolean operators?\n",
    "\n",
    "<b> Solution:<br><br>\n",
    "    \n",
    "<b>and, or</b> and <b>not:</b> are three different boolean operators<br><br>     \n",
    "    \n",
    "* and : This operator is used when we have two or more than two conditions which needs to be checked and <b>all conditions needs to be True</b>\n",
    "* or : This operator is used when we have two or more conditions to be checked and <b>either of the conditions need to be True.</b>\n",
    "* not : This operator is used when we want to change the truth value of some condition.\n",
    "<hr>"
   ]
  },
  {
   "cell_type": "markdown",
   "id": "828c3058",
   "metadata": {},
   "source": [
    "Q3. Make a list of each Boolean operator&#39;s truth tables (i.e. every possible combination of Boolean\n",
    "values for the operator and what it evaluate ).\n",
    "\n",
    "<b> Solution:\n",
    "    \n",
    "* There are 3 boolean operators : AND, OR and NOT and their Truth Table and what they evaluates are given in below code snippets"
   ]
  },
  {
   "cell_type": "markdown",
   "id": "ff6b6d96",
   "metadata": {},
   "source": [
    "#### AND Operator Truth Table"
   ]
  },
  {
   "cell_type": "code",
   "execution_count": 38,
   "id": "5c977ba0",
   "metadata": {},
   "outputs": [
    {
     "name": "stdout",
     "output_type": "stream",
     "text": [
      "True\n",
      "False\n",
      "False\n",
      "False\n"
     ]
    }
   ],
   "source": [
    "print(True and True)\n",
    "print(True and False)\n",
    "print(False and True)\n",
    "print(False and False)"
   ]
  },
  {
   "cell_type": "markdown",
   "id": "54feaf1d",
   "metadata": {},
   "source": [
    "#### OR operator Truth Table"
   ]
  },
  {
   "cell_type": "code",
   "execution_count": 39,
   "id": "0c414185",
   "metadata": {},
   "outputs": [
    {
     "name": "stdout",
     "output_type": "stream",
     "text": [
      "True\n",
      "True\n",
      "True\n",
      "False\n"
     ]
    }
   ],
   "source": [
    "print(True or True)\n",
    "print(True or False)\n",
    "print(False or True)\n",
    "print(False or False)"
   ]
  },
  {
   "cell_type": "markdown",
   "id": "aa41e17c",
   "metadata": {},
   "source": [
    "#### NOT operator Truth Table"
   ]
  },
  {
   "cell_type": "code",
   "execution_count": 40,
   "id": "4722e2f9",
   "metadata": {},
   "outputs": [
    {
     "name": "stdout",
     "output_type": "stream",
     "text": [
      "False\n",
      "True\n"
     ]
    }
   ],
   "source": [
    "print(not True)\n",
    "print(not False)"
   ]
  },
  {
   "cell_type": "markdown",
   "id": "eb227911",
   "metadata": {},
   "source": [
    "<hr>Q4. What are the values of the following expressions?\n",
    "\n",
    "* <b> (5 &gt; 4) and (3 == 5)  : </b> False\n",
    "* <b> not (5 &gt; 4) : </b> False\n",
    "* <b> (5 &gt; 4) or (3 == 5) : </b> True\n",
    "* <b> not ((5 &gt; 4) or (3 == 5)) : </b> False\n",
    "* <b> (True and True) and (True == False) : </b> False\n",
    "* <b> (not False) or (not True) : </b> True\n",
    "\n",
    "<hr>"
   ]
  },
  {
   "cell_type": "markdown",
   "id": "dbdbf580",
   "metadata": {},
   "source": [
    "Q5. What are the six comparison operators?\n",
    "\n",
    "<b>Solution:<br>\n",
    "    \n",
    "Below mentioned are six different comparision operator which compares two values and returns boolean value, either True or False<br>\n",
    "    \n",
    "* == : equals to operator  \n",
    "* &gt; : Greater Than Operator\n",
    "* &lt; : Less Than Operator\n",
    "* &gt;= : Greater Than or equal to operator\n",
    "* &lt;= : Less than or equal to operator\n",
    "* !=  : Not equal to operator  \n",
    "\n",
    "\n",
    "<hr>"
   ]
  },
  {
   "cell_type": "markdown",
   "id": "d18dcdc0",
   "metadata": {},
   "source": [
    "Q6. How do you tell the difference between the equal to and assignment operators?Describe a\n",
    "condition and when you would use one.\n",
    "\n",
    "<b> Solution:\n",
    "\n",
    "* The major difference between the two is that the assignment operator (=) assigns the value to a particular variable while equal to operator (==) compares two values whether they are equal or not. \n",
    "*Printing the variable after assignment operator will print the value of varibale itslef while printing the value return by equal to operator will always return True or False. <br><br>\n",
    "\n",
    "* I will use assignment operator to assign a value to a new variable.\n",
    "* I will use equal to operator (==) to check whether two values are equal or not in for example if statement.\n",
    "<hr>"
   ]
  },
  {
   "cell_type": "markdown",
   "id": "34280d6e",
   "metadata": {},
   "source": [
    "#### Assignment Operator Examples"
   ]
  },
  {
   "cell_type": "code",
   "execution_count": 8,
   "id": "ff77d7f8",
   "metadata": {},
   "outputs": [
    {
     "name": "stdout",
     "output_type": "stream",
     "text": [
      "7\n",
      "Hello Python\n",
      "True\n"
     ]
    }
   ],
   "source": [
    "x = 7   # Value 7 is assigned to variable x using assignment operator (=)\n",
    "y = \"Hello Python\"\n",
    "z = True\n",
    "\n",
    "print(x)\n",
    "print(y)\n",
    "print(z)\n"
   ]
  },
  {
   "cell_type": "markdown",
   "id": "9975a94c",
   "metadata": {},
   "source": [
    "#### Equal to Operator Example"
   ]
  },
  {
   "cell_type": "code",
   "execution_count": 17,
   "id": "88f61937",
   "metadata": {},
   "outputs": [
    {
     "name": "stdout",
     "output_type": "stream",
     "text": [
      "True\n",
      "False\n",
      "False\n",
      "True\n"
     ]
    }
   ],
   "source": [
    "a = (9==9)  \n",
    "#First Value 9 is compared to another value which is also 9 and the result is assigned to a variable (a).\n",
    "#So the final value assigned to variable (a) will be True.\n",
    "\n",
    "b = (8==9)\n",
    "c = (\"Hello\" == \"World\")\n",
    "d = (\"MyPython\" == \"MyPython\")\n",
    "\n",
    "print(a)\n",
    "print(b)\n",
    "print(c)\n",
    "print(d)"
   ]
  },
  {
   "cell_type": "markdown",
   "id": "e732bda6",
   "metadata": {},
   "source": [
    "<hr>\n",
    "Q7. Identify the three blocks in this code:<br>\n",
    "\n",
    "spam = 0<br>\n",
    "if spam == 10:<br>\n",
    "print(&#39;eggs&#39;)<br>\n",
    "if spam &gt; 5:<br>\n",
    "print(&#39;bacon&#39;)<br>\n",
    "else:<br>\n",
    "print(&#39;ham&#39;)<br>\n",
    "print(&#39;spam&#39;)<br>\n",
    "print(&#39;spam&#39;)<br>\n",
    "\n",
    "<b> Solution:\n",
    "    \n",
    "* First Block : The first block of code is starting from first (if) statement and ends at it's (print) statement.\n",
    "* Second Block : The Second block of code is starting from second (if) statement and ends at succeeeding print statement.\n",
    "* Third Block : The third block of code is starting from else statement and ends at the last print statement of the code."
   ]
  },
  {
   "cell_type": "markdown",
   "id": "d7a7729b",
   "metadata": {},
   "source": [
    "#### First code block"
   ]
  },
  {
   "cell_type": "code",
   "execution_count": null,
   "id": "ff9ae95b",
   "metadata": {},
   "outputs": [],
   "source": [
    "if spam == 10:\n",
    "    print(\"eggs\")"
   ]
  },
  {
   "cell_type": "markdown",
   "id": "12f3db02",
   "metadata": {},
   "source": [
    "#### Second code block"
   ]
  },
  {
   "cell_type": "code",
   "execution_count": 18,
   "id": "756d3a9c",
   "metadata": {},
   "outputs": [],
   "source": [
    "if spam>5:\n",
    "    print('bacon')"
   ]
  },
  {
   "cell_type": "markdown",
   "id": "790db36a",
   "metadata": {},
   "source": [
    "#### Third code block"
   ]
  },
  {
   "cell_type": "code",
   "execution_count": null,
   "id": "17873984",
   "metadata": {},
   "outputs": [],
   "source": [
    "else:\n",
    "    print('ham')\n",
    "    print('spam')\n",
    "    print('spam')"
   ]
  },
  {
   "cell_type": "markdown",
   "id": "db29ee8e",
   "metadata": {},
   "source": [
    "<hr>Q8. Write code that prints Hello if 1 is stored in spam, prints Howdy if 2 is stored in spam, and prints\n",
    "Greetings! if anything else is stored in spam.\n",
    "\n",
    "<b>Solution:"
   ]
  },
  {
   "cell_type": "code",
   "execution_count": 5,
   "id": "ca1a305d",
   "metadata": {},
   "outputs": [
    {
     "name": "stdout",
     "output_type": "stream",
     "text": [
      "Howdy\n"
     ]
    }
   ],
   "source": [
    "spam = 2\n",
    "\n",
    "if spam == 1:\n",
    "    print(\"Hello\")\n",
    "elif spam == 2:\n",
    "    print(\"Howdy\")\n",
    "else:\n",
    "    print(\"Greetings!\")\n",
    "    "
   ]
  },
  {
   "cell_type": "markdown",
   "id": "95f3fac0",
   "metadata": {},
   "source": [
    "<hr>Q9.If your programme is stuck in an endless loop, what keys you’ll press?\n",
    "\n",
    "<b>Solution:\n",
    "\n",
    "* I am using Macbook, so I will press \"I\" key twice on keyboard to interrupt the kernal to stop the endless loop.\n",
    "    \n",
    "<hr>\n"
   ]
  },
  {
   "cell_type": "markdown",
   "id": "1438b2cb",
   "metadata": {},
   "source": [
    "Q10. How can you tell the difference between break and continue?\n",
    "\n",
    "<b>Solution:\n",
    "    \n",
    "* I have mentioned a code snippet below of for loop having few iterations.\n",
    "* break statement : It is used to break the for loop completely and come out of the loop and execute further statments.\n",
    "* continue statement : It is used to skip a particular iteration in a for loop having specific number of iteration with the help of some conditional statement.<br><br>\n",
    "    \n",
    "I have mentioned example for both statement below:"
   ]
  },
  {
   "cell_type": "markdown",
   "id": "84d62ac6",
   "metadata": {},
   "source": [
    "#### Break Statement"
   ]
  },
  {
   "cell_type": "code",
   "execution_count": 46,
   "id": "911cb3ff",
   "metadata": {},
   "outputs": [
    {
     "name": "stdout",
     "output_type": "stream",
     "text": [
      "0\n",
      "1\n",
      "2\n",
      "3\n",
      "4\n",
      "Hello I am outside the loop\n"
     ]
    }
   ],
   "source": [
    "'''\n",
    "Here in this example break statement will break the loop \n",
    "at given condition when value of i will be 5 and\n",
    "come out of the loop and executing further print statement.\n",
    "''' \n",
    "\n",
    "for i in range(10):\n",
    "    if i==5:\n",
    "        break\n",
    "    print(i)\n",
    "    \n",
    "print(\"Hello I am outside the loop\")"
   ]
  },
  {
   "cell_type": "markdown",
   "id": "eded05c6",
   "metadata": {},
   "source": [
    "#### Continue Statement"
   ]
  },
  {
   "cell_type": "code",
   "execution_count": 47,
   "id": "60af63d4",
   "metadata": {},
   "outputs": [
    {
     "name": "stdout",
     "output_type": "stream",
     "text": [
      "0\n",
      "1\n",
      "2\n",
      "3\n",
      "4\n",
      "6\n",
      "7\n",
      "8\n",
      "9\n",
      "Hello I am outside the loop\n"
     ]
    }
   ],
   "source": [
    "'''\n",
    "Here in below given example continue statement will skip the particular iteraion when value of i is equal to 5.\n",
    "and proceed to execute further iteration of the loop and then\n",
    "come out of the loop to execute further print statement.\n",
    "'''\n",
    "\n",
    "for i in range(10):\n",
    "    if i==5:\n",
    "        continue\n",
    "    print(i)\n",
    "    \n",
    "print(\"Hello I am outside the loop\")"
   ]
  },
  {
   "cell_type": "markdown",
   "id": "13f920b9",
   "metadata": {},
   "source": [
    "<hr>Q11. In a for loop, what is the difference between range(10), range(0, 10), and range(0, 10, 1)?\n",
    "\n",
    "<b> Solution:\n",
    "    \n",
    "All three will return same output as shown in below code snippets but there are 3 different parametres given to the range functions.<br>\n",
    "    \n",
    "Range function has 3 paramteres : range(start, stop, step) (By Default start is 0, and step is 1)\n",
    "* range(10) : Here 10 is stop parameter and satrt and step will take its default value.\n",
    "* range(0, 10) :  Here 0 is start value, 10 is the stop value and it will take it's default step value.\n",
    "* range(0, 10, 1) : Here all three parametres are specified so no default value will be taken but specified value in the function itslef are default one so no change in the output will be observed"
   ]
  },
  {
   "cell_type": "markdown",
   "id": "e167bb4c",
   "metadata": {},
   "source": [
    "#### range(10)"
   ]
  },
  {
   "cell_type": "code",
   "execution_count": 48,
   "id": "c884f8e7",
   "metadata": {},
   "outputs": [
    {
     "data": {
      "text/plain": [
       "[0, 1, 2, 3, 4, 5, 6, 7, 8, 9]"
      ]
     },
     "execution_count": 48,
     "metadata": {},
     "output_type": "execute_result"
    }
   ],
   "source": [
    "[x for x in range(10)]"
   ]
  },
  {
   "cell_type": "markdown",
   "id": "dc3188c6",
   "metadata": {},
   "source": [
    "#### range(0,10)"
   ]
  },
  {
   "cell_type": "code",
   "execution_count": 49,
   "id": "879ee386",
   "metadata": {},
   "outputs": [
    {
     "data": {
      "text/plain": [
       "[0, 1, 2, 3, 4, 5, 6, 7, 8, 9]"
      ]
     },
     "execution_count": 49,
     "metadata": {},
     "output_type": "execute_result"
    }
   ],
   "source": [
    "[x for x in range(0,10)]"
   ]
  },
  {
   "cell_type": "markdown",
   "id": "f5757d55",
   "metadata": {},
   "source": [
    "#### range(0, 10, 1)"
   ]
  },
  {
   "cell_type": "code",
   "execution_count": 50,
   "id": "6e5bcdcd",
   "metadata": {},
   "outputs": [
    {
     "data": {
      "text/plain": [
       "[0, 1, 2, 3, 4, 5, 6, 7, 8, 9]"
      ]
     },
     "execution_count": 50,
     "metadata": {},
     "output_type": "execute_result"
    }
   ],
   "source": [
    "[x for x in range(0,10,1)]"
   ]
  },
  {
   "cell_type": "markdown",
   "id": "5117ebd5",
   "metadata": {},
   "source": [
    "<hr>Q12. Write a short program that prints the numbers 1 to 10 using a for loop. Then write an equivalent\n",
    "program that prints the numbers 1 to 10 using a while loop.\n",
    "\n",
    "<b> Solution:\n"
   ]
  },
  {
   "cell_type": "markdown",
   "id": "07a6a8f9",
   "metadata": {},
   "source": [
    "#### Print 1 to 10 using for Loop "
   ]
  },
  {
   "cell_type": "code",
   "execution_count": 51,
   "id": "ace841de",
   "metadata": {},
   "outputs": [
    {
     "name": "stdout",
     "output_type": "stream",
     "text": [
      "1\n",
      "2\n",
      "3\n",
      "4\n",
      "5\n",
      "6\n",
      "7\n",
      "8\n",
      "9\n",
      "10\n"
     ]
    }
   ],
   "source": [
    "for i in range(1, 11):\n",
    "    print(i)"
   ]
  },
  {
   "cell_type": "markdown",
   "id": "9903d4da",
   "metadata": {},
   "source": [
    "#### Print 1 to 10 using while loop"
   ]
  },
  {
   "cell_type": "code",
   "execution_count": 52,
   "id": "dfbc809f",
   "metadata": {},
   "outputs": [
    {
     "name": "stdout",
     "output_type": "stream",
     "text": [
      "1\n",
      "2\n",
      "3\n",
      "4\n",
      "5\n",
      "6\n",
      "7\n",
      "8\n",
      "9\n",
      "10\n"
     ]
    }
   ],
   "source": [
    "i = 1\n",
    "while i<=10:\n",
    "    print(i)\n",
    "    i+=1"
   ]
  },
  {
   "cell_type": "markdown",
   "id": "5bb7eb13",
   "metadata": {},
   "source": [
    "<hr>Q13. If you had a function named bacon() inside a module named spam, how would you call it after\n",
    "importing spam?\n",
    "\n",
    "<b> Solution:\n",
    "    \n",
    "import spam<br>\n",
    "spam.bacon()\n",
    "    \n",
    "<hr>"
   ]
  }
 ],
 "metadata": {
  "kernelspec": {
   "display_name": "Python 3 (ipykernel)",
   "language": "python",
   "name": "python3"
  },
  "language_info": {
   "codemirror_mode": {
    "name": "ipython",
    "version": 3
   },
   "file_extension": ".py",
   "mimetype": "text/x-python",
   "name": "python",
   "nbconvert_exporter": "python",
   "pygments_lexer": "ipython3",
   "version": "3.9.7"
  }
 },
 "nbformat": 4,
 "nbformat_minor": 5
}

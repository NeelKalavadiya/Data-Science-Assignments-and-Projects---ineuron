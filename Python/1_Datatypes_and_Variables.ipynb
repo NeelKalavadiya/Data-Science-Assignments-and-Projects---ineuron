{
 "cells": [
  {
   "cell_type": "markdown",
   "id": "b2893bf8",
   "metadata": {},
   "source": [
    "# Assignment_1"
   ]
  },
  {
   "cell_type": "markdown",
   "id": "3196af65",
   "metadata": {},
   "source": [
    "Q1. In the below elements which of them are values or an expression? eg:- values can be integer or string and expressions will be mathematical operators.\n",
    "\n",
    "<b>Solution:\n",
    "\n",
    "* ( * )&nbsp;&nbsp; :   It is a Mathematical Operator <br>\n",
    "* ( 'hello' )&nbsp;&nbsp; : It is a Value <br>\n",
    "* ( -87.8 )&nbsp;&nbsp; : It is a Value <br>\n",
    "* ( - )&nbsp;&nbsp; : It is a Mathematical Operator <br>\n",
    "* ( / )&nbsp;&nbsp; : It is a Mathematical Operator  <br>\n",
    "* ( + )&nbsp;&nbsp; : It is a Mathematical Operator  <br>\n",
    "* ( 6 )&nbsp;&nbsp; : It is a Value  <br>\n",
    "    \n",
    "<hr>\n"
   ]
  },
  {
   "cell_type": "markdown",
   "id": "7b38098b",
   "metadata": {},
   "source": [
    "Q2. What is the difference between string and variable?\n",
    "\n",
    "<b>Solution:\n",
    "\n",
    "* Variable : It is a container to store some information in it which we can store by assigning value to it.\n",
    "* String : It is the type (datatype) of information which will be stored in a variable.<br><br>\n",
    "*Example:<br>\n",
    "&nbsp;&nbsp; <b>var_a = \"Hello World\"</b><br>\n",
    "&nbsp;&nbsp; Here <b>var_a</b> is a variable and <b>\"Hello World\"</b> is a String\n",
    "    \n",
    "\n",
    "<hr>"
   ]
  },
  {
   "cell_type": "markdown",
   "id": "284be12c",
   "metadata": {},
   "source": [
    "Q3. Describe three different data types.\n",
    "\n",
    "<b>Solution:\n",
    "\n",
    "<br>The three different datatypes in python are str, int, and bool\n",
    "* int stores the Integer values ( Examples : 4,5,6,89,234)\n",
    "* str stores the String values and are surrounded by either double or single quotes  (Examples : \"Hello\", \"Good Morning\", \"I am a professional Data Scientist\")\n",
    "* bool stores two values : True and False   \n",
    " \n",
    "\n",
    "    \n",
    "<hr>    "
   ]
  },
  {
   "cell_type": "markdown",
   "id": "ca4cbdc5",
   "metadata": {},
   "source": [
    "Q4. What is an expression made up of? What do all expressions do?\n",
    "\n",
    "<b>Solution:\n",
    "* Expression : It is made up of values, literals, operators and function calls. <br>\n",
    "What They Do : All the expression is evaluated or computed by Python interpreter and then return some values which can be assigned or displayed.<br><br>\n",
    "    \n",
    "* <b>Expression Example :</b> x+y, 5+6, 17, x+7 etc.....   (computed and evaluated to return some value)\n",
    "<hr>"
   ]
  },
  {
   "cell_type": "markdown",
   "id": "e0ad335e",
   "metadata": {},
   "source": [
    "Q5. This assignment statements, like spam = 10. What is the difference between an expression and a statement?\n",
    "\n",
    "<b>Solution:\n",
    "* Statement v/s Expression : The major difference between two is that a <b>Statement</b> is an instruction or a command that can be executed by Python Interpreter and doesn't evaluate or compute any values while <b>Expression</b> is something that Python interpreter evaluates and return some specific sort of value.<br>\n",
    "    \n",
    "    \n",
    "* <b>Statement Example :</b> classs,while,for,def etc....  (just execute the statement and dont return any value)\n",
    "* <b>Expression Example :</b> x+y, 5+6, 17, x+7 etc.....   (computed and evaluated to return some value)\n",
    "\n",
    "<hr>"
   ]
  },
  {
   "cell_type": "markdown",
   "id": "afed3eeb",
   "metadata": {},
   "source": [
    "Q6. After running the following code, what does the variable bacon contain?\n",
    "\n",
    "bacon = 22 <br>\n",
    "bacon + 1 <br>\n",
    "\n",
    "<b>Solution:\n",
    "\n",
    "\n",
    "&nbsp;&nbsp;[Output Value] : 22<br>\n",
    "Variable named bacon will contain value as 22 because bacon+1 is not re-assigned to variable bacon so it will not get updated.    \n",
    "\n",
    "\n",
    "<hr>"
   ]
  },
  {
   "cell_type": "markdown",
   "id": "a29adbd3",
   "metadata": {},
   "source": [
    "\n",
    "Q7. What should the values of the following two terms be?\n",
    "\n",
    "<b>Solution:\n",
    "    \n",
    "* 'spam' + 'spamspam'<br>\n",
    "    &nbsp;&nbsp;[Output Value] : \"spamspamspam\"\n",
    "* 'spam' * 3<br>\n",
    "    &nbsp;&nbsp;[Output Value] : \"spamspamspam\"\n",
    "\n",
    "<hr>"
   ]
  },
  {
   "cell_type": "markdown",
   "id": "f2e84c7b",
   "metadata": {},
   "source": [
    "Q8. Why is eggs a valid variable name while 100 is invalid?\n",
    "\n",
    "<b>Solution:\n",
    "    \n",
    "* There are some rules to name the variable and one of these rules states that a varibale name should always begins with a underscore or a letter and it cannot begin with numbers.<br><br>\n",
    "    And that is the reason eggs is a valid variable name while 100 is invalid varibale name.\n",
    "<hr>"
   ]
  },
  {
   "cell_type": "markdown",
   "id": "2dfba73a",
   "metadata": {},
   "source": [
    "Q9. What three functions can be used to get the integer, floating-point number, or string version of a value?\n",
    "\n",
    "<b>Solution:\n",
    "    \n",
    "* Three functions which can be used to get integer, floating-point number or string version of a value are int(), float() and str() respectively. <br><br>\n",
    "    Below code snippet explains it with an example:\n",
    "<hr>"
   ]
  },
  {
   "cell_type": "code",
   "execution_count": 14,
   "id": "a7dc5367",
   "metadata": {},
   "outputs": [
    {
     "name": "stdout",
     "output_type": "stream",
     "text": [
      "int() Function to get integer version of a value\n",
      "7\n",
      "<class 'int'>\n",
      "\n",
      "float() Function to get floating-point version of a value\n",
      "7.0\n",
      "<class 'float'>\n",
      "\n",
      "str() Function to get string version of a value\n",
      "7\n",
      "<class 'str'>\n"
     ]
    }
   ],
   "source": [
    "a = 7\n",
    "\n",
    "print(\"int() Function to get integer version of a value\")\n",
    "b = int(a)\n",
    "print(b)\n",
    "print(type(b))\n",
    "print()\n",
    "\n",
    "print(\"float() Function to get floating-point version of a value\")\n",
    "c = float(a)\n",
    "print(c)\n",
    "print(type(c))\n",
    "print()\n",
    "\n",
    "print(\"str() Function to get string version of a value\")\n",
    "d = str(a)\n",
    "print(d)\n",
    "print(type(d))"
   ]
  },
  {
   "cell_type": "code",
   "execution_count": null,
   "id": "0df7b680",
   "metadata": {},
   "outputs": [],
   "source": []
  },
  {
   "cell_type": "markdown",
   "id": "8800cd0b",
   "metadata": {},
   "source": [
    "Q10. Why does this expression cause an error? How can you fix it?\n",
    "* 'I have eaten ' + 99 + ' burritos.'\n",
    "\n",
    "<b>Solution:</b><br>\n",
    "    It is causing error because String cannot be concatenated with integer value 99.<br><br>\n",
    "    And we can fix it by converting integer value of 99 to string value of 99 as shown in below code snippet by getting string version of value 99:<br>\n",
    "<hr>"
   ]
  },
  {
   "cell_type": "code",
   "execution_count": 16,
   "id": "9508e32b",
   "metadata": {},
   "outputs": [
    {
     "data": {
      "text/plain": [
       "'I have eaten 99 burritos.'"
      ]
     },
     "execution_count": 16,
     "metadata": {},
     "output_type": "execute_result"
    }
   ],
   "source": [
    "'I have eaten ' + str(99) + ' burritos.'"
   ]
  }
 ],
 "metadata": {
  "kernelspec": {
   "display_name": "Python 3 (ipykernel)",
   "language": "python",
   "name": "python3"
  },
  "language_info": {
   "codemirror_mode": {
    "name": "ipython",
    "version": 3
   },
   "file_extension": ".py",
   "mimetype": "text/x-python",
   "name": "python",
   "nbconvert_exporter": "python",
   "pygments_lexer": "ipython3",
   "version": "3.9.7"
  }
 },
 "nbformat": 4,
 "nbformat_minor": 5
}

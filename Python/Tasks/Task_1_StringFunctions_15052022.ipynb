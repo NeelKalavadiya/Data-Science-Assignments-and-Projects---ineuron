{
 "cells": [
  {
   "cell_type": "markdown",
   "id": "347d8a3f",
   "metadata": {},
   "source": [
    "<!-- you have to send a jupyter notebook to shivan@ineuron.ai before next saturday class 21st of may .  -->"
   ]
  },
  {
   "cell_type": "markdown",
   "id": "605e5da0",
   "metadata": {},
   "source": [
    "# Task - 1"
   ]
  },
  {
   "cell_type": "markdown",
   "id": "27527e5a",
   "metadata": {},
   "source": [
    "### Description : String Functions\n",
    "### Author : Neelkumar Kalavadiya\n",
    "### Date : 15/05/2022 (Sunday)<hr>"
   ]
  },
  {
   "cell_type": "code",
   "execution_count": 5,
   "id": "6760aa55",
   "metadata": {},
   "outputs": [],
   "source": [
    "s = \"this is My First Python programming class and i am learNING python string and its function\""
   ]
  },
  {
   "cell_type": "markdown",
   "id": "5c97d40f",
   "metadata": {},
   "source": [
    "<hr>Q1 Try to extract data from index 1 to index 300 with a jump of 3? \n",
    "\n",
    "<b> Solution:"
   ]
  },
  {
   "cell_type": "code",
   "execution_count": 6,
   "id": "c7c5a5f2",
   "metadata": {},
   "outputs": [
    {
     "data": {
      "text/plain": [
       "'h   r tnrrmglsnimeNGyosi dtfco'"
      ]
     },
     "execution_count": 6,
     "metadata": {},
     "output_type": "execute_result"
    }
   ],
   "source": [
    "s[1:300:3]"
   ]
  },
  {
   "cell_type": "markdown",
   "id": "3ee75b46",
   "metadata": {},
   "source": [
    "<hr>Q2. Try to reverse a string without using reverse function.\n",
    "\n",
    "<b> Solution:"
   ]
  },
  {
   "cell_type": "code",
   "execution_count": 7,
   "id": "5a194426",
   "metadata": {},
   "outputs": [
    {
     "data": {
      "text/plain": [
       "'noitcnuf sti dna gnirts nohtyp GNINrael ma i dna ssalc gnimmargorp nohtyP tsriF yM si siht'"
      ]
     },
     "execution_count": 7,
     "metadata": {},
     "output_type": "execute_result"
    }
   ],
   "source": [
    "s[::-1]"
   ]
  },
  {
   "cell_type": "markdown",
   "id": "dd0d6972",
   "metadata": {},
   "source": [
    "<hr>Q3. Try to split a string after conversion of entire string in uppercase.\n",
    "\n",
    "<b> Solution:"
   ]
  },
  {
   "cell_type": "code",
   "execution_count": 8,
   "id": "506dec2e",
   "metadata": {},
   "outputs": [
    {
     "data": {
      "text/plain": [
       "['THIS',\n",
       " 'IS',\n",
       " 'MY',\n",
       " 'FIRST',\n",
       " 'PYTHON',\n",
       " 'PROGRAMMING',\n",
       " 'CLASS',\n",
       " 'AND',\n",
       " 'I',\n",
       " 'AM',\n",
       " 'LEARNING',\n",
       " 'PYTHON',\n",
       " 'STRING',\n",
       " 'AND',\n",
       " 'ITS',\n",
       " 'FUNCTION']"
      ]
     },
     "execution_count": 8,
     "metadata": {},
     "output_type": "execute_result"
    }
   ],
   "source": [
    "s.upper().split()"
   ]
  },
  {
   "cell_type": "markdown",
   "id": "78b5cae9",
   "metadata": {},
   "source": [
    "<hr>Q4. try to convert the whole string into lower case.\n",
    "\n",
    "<b> Solution:"
   ]
  },
  {
   "cell_type": "code",
   "execution_count": 9,
   "id": "3a44bedc",
   "metadata": {},
   "outputs": [
    {
     "data": {
      "text/plain": [
       "'this is my first python programming class and i am learning python string and its function'"
      ]
     },
     "execution_count": 9,
     "metadata": {},
     "output_type": "execute_result"
    }
   ],
   "source": [
    "s.lower()"
   ]
  },
  {
   "cell_type": "markdown",
   "id": "c34fb6cb",
   "metadata": {},
   "source": [
    "<hr>Q5 . Try to capitalize the whole string.\n",
    "\n",
    "<b> Solution:"
   ]
  },
  {
   "cell_type": "code",
   "execution_count": 10,
   "id": "11b8c412",
   "metadata": {},
   "outputs": [
    {
     "data": {
      "text/plain": [
       "'This is my first python programming class and i am learning python string and its function'"
      ]
     },
     "execution_count": 10,
     "metadata": {},
     "output_type": "execute_result"
    }
   ],
   "source": [
    "s.capitalize()"
   ]
  },
  {
   "cell_type": "markdown",
   "id": "34c2695c",
   "metadata": {},
   "source": [
    "<hr>Q6 . Write a diference between isalnum() and isalpha()\n",
    "\n",
    "<b> Solution:\n",
    "    \n",
    "* isalnum() : This string function will check that the string only contains either alphabetic letters or numbers and then returns the boolean value accordingly.\n",
    "* isalpha() : This string function will check that the string only contains alphabetic letters and then returns the boolean value accordingly.   "
   ]
  },
  {
   "cell_type": "code",
   "execution_count": 11,
   "id": "19b79574",
   "metadata": {},
   "outputs": [
    {
     "name": "stdout",
     "output_type": "stream",
     "text": [
      "s_1 is alphanumeric? : True\n",
      "s_2 is alphanumeric? : False\n",
      "\n",
      "s_3 is alpha? : True\n",
      "s_4 is alpha? : False\n"
     ]
    }
   ],
   "source": [
    "#isalnum() Examples\n",
    "s_1 = \"Neel1234\"    # Will return True as it is alphanum.\n",
    "s_2 = \"Neel12@ 34 \" # Will return False because this is not alphanum as it has special chars like spaces and @.\n",
    "\n",
    "print(\"s_1 is alphanumeric? : \" + str(s_1.isalnum()))\n",
    "print(\"s_2 is alphanumeric? : \" + str(s_2.isalnum()))\n",
    "print()\n",
    "\n",
    "\n",
    "\n",
    "#isalpha() Examples\n",
    "s_3 = \"Neel\"   # Will return True as it contains only alphabetic values.\n",
    "s_4 = \"Neel123\" # Will return False as it contains digits also.\n",
    "\n",
    "print(\"s_3 is alpha? : \" + str(s_3.isalpha()))\n",
    "print(\"s_4 is alpha? : \" + str(s_4.isalpha()))\n"
   ]
  },
  {
   "cell_type": "markdown",
   "id": "ddd30b24",
   "metadata": {},
   "source": [
    "<hr>Q7. Try to give an example of expand tab.\n",
    "\n",
    "<b> Solution:"
   ]
  },
  {
   "cell_type": "code",
   "execution_count": 12,
   "id": "ec605027",
   "metadata": {},
   "outputs": [
    {
     "data": {
      "text/plain": [
       "'Neelkumar       Prakashbhai     Kalavadiya'"
      ]
     },
     "execution_count": 12,
     "metadata": {},
     "output_type": "execute_result"
    }
   ],
   "source": [
    "s_5 = \"Neelkumar\\tPrakashbhai\\tKalavadiya\"\n",
    "\n",
    "# This function expandtabs() will convert \\t into a tab which is 3 space.\n",
    "\n",
    "s_5.expandtabs() "
   ]
  },
  {
   "cell_type": "markdown",
   "id": "42e01755",
   "metadata": {},
   "source": [
    "<hr>Q8 . Give an example of strip , lstrip and rstrip\n",
    "\n",
    "<b> Solution:"
   ]
  },
  {
   "cell_type": "code",
   "execution_count": 13,
   "id": "5c4a0b5f",
   "metadata": {},
   "outputs": [
    {
     "name": "stdout",
     "output_type": "stream",
     "text": [
      "Hello   I      Love Python\n",
      "Hello   I      Love Python                    \n",
      "     Hello   I      Love Python\n"
     ]
    }
   ],
   "source": [
    "s_6 = \"     Hello   I      Love Python                    \"\n",
    "\n",
    "\n",
    "#No method will remove space which are in between of the string\n",
    "\n",
    "\n",
    "print(s_6.strip())   # will remove all blank spaces from both side of string.\n",
    "print(s_6.lstrip())  # will remove all blank spaces from left side of string.\n",
    "print(s_6.rstrip())  # will remove all blank spaces from right side of string.\n"
   ]
  },
  {
   "cell_type": "markdown",
   "id": "25157d1d",
   "metadata": {},
   "source": [
    "<hr>Q9.  Replace a string charecter by another charector by taking your own example \n",
    "\n",
    "<b> Solution:\n",
    "    "
   ]
  },
  {
   "cell_type": "code",
   "execution_count": 14,
   "id": "d7e6269b",
   "metadata": {},
   "outputs": [
    {
     "data": {
      "text/plain": [
       "'Hello Nython'"
      ]
     },
     "execution_count": 14,
     "metadata": {},
     "output_type": "execute_result"
    }
   ],
   "source": [
    "s_7 = \"Hello Python\"\n",
    "\n",
    "s_7.replace('P', 'N')"
   ]
  },
  {
   "cell_type": "markdown",
   "id": "79ebde2f",
   "metadata": {},
   "source": [
    "<hr>Q10 . Try  to give a defination of string center function with and exmple\n",
    "\n",
    "<b> Solution:\n",
    "    \n",
    "* Center function of String class takes two parameters. First one is the size of the string you want and second one will take the character or letter you want to be at the both side of string if the mentioned size in center function is more than the actual size of string."
   ]
  },
  {
   "cell_type": "code",
   "execution_count": 15,
   "id": "4d990d24",
   "metadata": {},
   "outputs": [
    {
     "data": {
      "text/plain": [
       "'@@@@@@@@@@@@@@     Hy I am Python  @@@@@@@@@@@@@@@'"
      ]
     },
     "execution_count": 15,
     "metadata": {},
     "output_type": "execute_result"
    }
   ],
   "source": [
    "s_8 = \"     Hy I am Python  \"\n",
    "\n",
    "s_8.center(50,'@')"
   ]
  },
  {
   "cell_type": "markdown",
   "id": "f458c9fe",
   "metadata": {},
   "source": [
    "<hr>Q11 . Write your own definition of compiler and interpretor without copy paste form internet in your own language.\n",
    "\n",
    "<b> Solution:\n",
    "    \n",
    "* Compiler : Software that converts source code into machine(byte) code) in one go. It takes whole source code written by us and then converts all of the code to machine(byte) code in single run and creates the executable file which will run on execution. Here errors could be displayed at the end of compilation of whole source code<br><br>\n",
    "    \n",
    "* Interpreter : This software also converts souce code into the byte code but it analyze and translate to byte code one statement at a time and then goes to next statement and repeat the process. So interpreter translates the code as soon as we write it. Here errors could be displayed as soon as the statement is interpreted with some error and stops further execution."
   ]
  },
  {
   "cell_type": "markdown",
   "id": "aff9053d",
   "metadata": {},
   "source": [
    "<hr>Q12 . Python is a interpreted or compiled language give a clear ans with your understanding.\n",
    "\n",
    "<b> Solution:\n",
    "    \n",
    "* Python is interpreted language because it will execute the code perfectly untill it reaches any error and when it reaches errorus statemnt then it will throw or display error and stops further execution.<br><br>\n",
    "    \n",
    "* While this is not the case in compiled language (Java, C++, etc), Here compiler first analyze whole source code and if it founds error in any line or code block, then it will not compile that whole code file and throws or displays error.<br><br>\n",
    "    \n",
    "This can be cleared by following example. It shows that Python executes it's code line by line and stops where error occured hence it is called interpreted language and not compiled language:\n",
    "    \n"
   ]
  },
  {
   "cell_type": "code",
   "execution_count": 16,
   "id": "2b8ed3b5",
   "metadata": {},
   "outputs": [
    {
     "name": "stdout",
     "output_type": "stream",
     "text": [
      "Hello World!\n"
     ]
    },
    {
     "ename": "NameError",
     "evalue": "name 'prnt' is not defined",
     "output_type": "error",
     "traceback": [
      "\u001b[0;31m---------------------------------------------------------------------------\u001b[0m",
      "\u001b[0;31mNameError\u001b[0m                                 Traceback (most recent call last)",
      "\u001b[0;32m/var/folders/zh/dswmqvz111g5pwvplk3b9zz80000gn/T/ipykernel_7312/1529470918.py\u001b[0m in \u001b[0;36m<module>\u001b[0;34m\u001b[0m\n\u001b[1;32m      1\u001b[0m \u001b[0mprint\u001b[0m\u001b[0;34m(\u001b[0m\u001b[0;34m\"Hello World!\"\u001b[0m\u001b[0;34m)\u001b[0m   \u001b[0;31m# This will be printed\u001b[0m\u001b[0;34m\u001b[0m\u001b[0;34m\u001b[0m\u001b[0m\n\u001b[1;32m      2\u001b[0m \u001b[0;34m\u001b[0m\u001b[0m\n\u001b[0;32m----> 3\u001b[0;31m \u001b[0mprnt\u001b[0m\u001b[0;34m(\u001b[0m\u001b[0;34m\"I Love Python\"\u001b[0m\u001b[0;34m)\u001b[0m   \u001b[0;31m# This line will throw error\u001b[0m\u001b[0;34m\u001b[0m\u001b[0;34m\u001b[0m\u001b[0m\n\u001b[0m\u001b[1;32m      4\u001b[0m \u001b[0mprint\u001b[0m\u001b[0;34m(\u001b[0m\u001b[0mHello\u001b[0m\u001b[0;34m)\u001b[0m            \u001b[0;31m# This line will not been executed even if it has error in it because execution stops at previous line\u001b[0m\u001b[0;34m\u001b[0m\u001b[0;34m\u001b[0m\u001b[0m\n\u001b[1;32m      5\u001b[0m \u001b[0;34m\u001b[0m\u001b[0m\n",
      "\u001b[0;31mNameError\u001b[0m: name 'prnt' is not defined"
     ]
    }
   ],
   "source": [
    "print(\"Hello World!\")   # This will be printed\n",
    "\n",
    "prnt(\"I Love Python\")   # This line will throw error\n",
    "print(Hello)            # This line will not been executed even if it has error in it because execution stops at previous line\n",
    "\n",
    "print(\"End of the example\")  # This line of code will also not execute."
   ]
  },
  {
   "cell_type": "markdown",
   "id": "ea9199bd",
   "metadata": {},
   "source": [
    "<hr>Q13 . Try to write a usecase of python with your understanding.\n",
    "\n",
    "<b> Solution:\n",
    "    \n",
    "* Building Web Applications\n",
    "* Building Websites using Flask, Django, etc..... similar kind of frameworks\n",
    "* Data Science using various modules like numpy, pandas, matplotlib, etc....\n",
    "* Artificical Intelligence    \n",
    "* Game Development"
   ]
  }
 ],
 "metadata": {
  "kernelspec": {
   "display_name": "Python 3 (ipykernel)",
   "language": "python",
   "name": "python3"
  },
  "language_info": {
   "codemirror_mode": {
    "name": "ipython",
    "version": 3
   },
   "file_extension": ".py",
   "mimetype": "text/x-python",
   "name": "python",
   "nbconvert_exporter": "python",
   "pygments_lexer": "ipython3",
   "version": "3.9.7"
  }
 },
 "nbformat": 4,
 "nbformat_minor": 5
}

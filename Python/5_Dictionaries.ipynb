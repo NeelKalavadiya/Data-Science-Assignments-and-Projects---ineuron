{
 "cells": [
  {
   "cell_type": "markdown",
   "id": "98798698",
   "metadata": {},
   "source": [
    "# Assignment_5 - Dictionaries\n",
    "### Author : Neelkumar Kalavadiya\n",
    "### Submission Date : 26/05/2022, Thursday"
   ]
  },
  {
   "cell_type": "markdown",
   "id": "233b929c",
   "metadata": {},
   "source": [
    "<hr>Q1. What does an empty dictionary&#39;s code look like?\n",
    "\n",
    "<b>Solution:"
   ]
  },
  {
   "cell_type": "code",
   "execution_count": 1,
   "id": "dd8e528a",
   "metadata": {},
   "outputs": [
    {
     "data": {
      "text/plain": [
       "dict"
      ]
     },
     "execution_count": 1,
     "metadata": {},
     "output_type": "execute_result"
    }
   ],
   "source": [
    "dict1 = {}\n",
    "\n",
    "type(dict1)"
   ]
  },
  {
   "cell_type": "markdown",
   "id": "3f20e0a7",
   "metadata": {},
   "source": [
    "<hr>Q2. What is the value of a dictionary value with the key &#39;foo&#39; and the value 42?\n",
    "\n",
    "<b>Solution:"
   ]
  },
  {
   "cell_type": "code",
   "execution_count": 17,
   "id": "2d3c8743",
   "metadata": {},
   "outputs": [
    {
     "name": "stdout",
     "output_type": "stream",
     "text": [
      "{'foo': 42}\n",
      "dict_values([42])\n"
     ]
    }
   ],
   "source": [
    "dict2 = {'foo':42}\n",
    "\n",
    "print(dict2)\n",
    "print(dict2.values())"
   ]
  },
  {
   "cell_type": "markdown",
   "id": "f3e713dd",
   "metadata": {},
   "source": [
    "<hr>Q3. What is the most significant distinction between a dictionary and a list?\n",
    "\n",
    "<b>Solution:"
   ]
  },
  {
   "cell_type": "markdown",
   "id": "d22cdbe6",
   "metadata": {},
   "source": [
    "* Dictionary is a key : value pair collection while list is not\n",
    "* We cannot access dictionary item by index values while we can do it in list\n",
    "* Items are not ordered in dictionaries while it is ordered in list"
   ]
  },
  {
   "cell_type": "markdown",
   "id": "f18a5147",
   "metadata": {},
   "source": [
    "<hr>Q4. What happens if you try to access spam[&#39;foo&#39;] if spam is {&#39;bar&#39;: 100}?\n",
    "\n",
    "<b>Solution:"
   ]
  },
  {
   "cell_type": "markdown",
   "id": "d2550fb2",
   "metadata": {},
   "source": [
    "* It will give keyError as shown in below code snippet as we do not have any key named 'foo'"
   ]
  },
  {
   "cell_type": "code",
   "execution_count": 5,
   "id": "e103987a",
   "metadata": {},
   "outputs": [
    {
     "ename": "KeyError",
     "evalue": "'foo'",
     "output_type": "error",
     "traceback": [
      "\u001b[0;31m---------------------------------------------------------------------------\u001b[0m",
      "\u001b[0;31mKeyError\u001b[0m                                  Traceback (most recent call last)",
      "\u001b[0;32m/var/folders/zh/dswmqvz111g5pwvplk3b9zz80000gn/T/ipykernel_9327/1683314401.py\u001b[0m in \u001b[0;36m<module>\u001b[0;34m\u001b[0m\n\u001b[1;32m      1\u001b[0m \u001b[0mspam\u001b[0m \u001b[0;34m=\u001b[0m \u001b[0;34m{\u001b[0m\u001b[0;34m'bar'\u001b[0m\u001b[0;34m:\u001b[0m\u001b[0;36m100\u001b[0m\u001b[0;34m}\u001b[0m\u001b[0;34m\u001b[0m\u001b[0;34m\u001b[0m\u001b[0m\n\u001b[1;32m      2\u001b[0m \u001b[0;34m\u001b[0m\u001b[0m\n\u001b[0;32m----> 3\u001b[0;31m \u001b[0mspam\u001b[0m\u001b[0;34m[\u001b[0m\u001b[0;34m'foo'\u001b[0m\u001b[0;34m]\u001b[0m\u001b[0;34m\u001b[0m\u001b[0;34m\u001b[0m\u001b[0m\n\u001b[0m",
      "\u001b[0;31mKeyError\u001b[0m: 'foo'"
     ]
    }
   ],
   "source": [
    "spam = {'bar':100}\n",
    "\n",
    "spam['foo']"
   ]
  },
  {
   "cell_type": "markdown",
   "id": "b1b06d84",
   "metadata": {},
   "source": [
    "<hr>Q5. If a dictionary is stored in spam, what is the difference between the expressions &#39;cat&#39; in spam and\n",
    "&#39;cat&#39; in spam.keys()?\n",
    "\n",
    "<b>Solution:"
   ]
  },
  {
   "cell_type": "markdown",
   "id": "70fa3582",
   "metadata": {},
   "source": [
    "* Both expressions have no difference as shown in below code snippet because both expression will check whether key named 'cat' is present inside spam1 list or not"
   ]
  },
  {
   "cell_type": "code",
   "execution_count": 7,
   "id": "ff149570",
   "metadata": {},
   "outputs": [
    {
     "name": "stdout",
     "output_type": "stream",
     "text": [
      "True\n",
      "True\n"
     ]
    }
   ],
   "source": [
    "spam1 = {'cat':42}\n",
    "\n",
    "\n",
    "print('cat' in spam1)\n",
    "print('cat' in spam1.keys())"
   ]
  },
  {
   "cell_type": "markdown",
   "id": "3fce2618",
   "metadata": {},
   "source": [
    "<hr>Q6. If a dictionary is stored in spam, what is the difference between the expressions &#39;cat&#39; in spam and\n",
    "&#39;cat&#39; in spam.values()?\n",
    "\n",
    "<b>Solution:"
   ]
  },
  {
   "cell_type": "markdown",
   "id": "60062cdf",
   "metadata": {},
   "source": [
    "* Here it will make difference between both the expression as ['cat' in spam1] will check whether the key named 'cat' is present in dictionary spam1 or not\n",
    "* While ['cat' in spam.values()] will check whether the value named 'cat' is present in dictionary or not"
   ]
  },
  {
   "cell_type": "code",
   "execution_count": 8,
   "id": "ee1984d7",
   "metadata": {},
   "outputs": [
    {
     "name": "stdout",
     "output_type": "stream",
     "text": [
      "True\n",
      "False\n"
     ]
    }
   ],
   "source": [
    "print('cat' in spam1)\n",
    "print('cat' in spam1.values())"
   ]
  },
  {
   "cell_type": "markdown",
   "id": "835a63cd",
   "metadata": {},
   "source": [
    "<hr>Q7. What is a shortcut for the following code?\n",
    "if &#39;color&#39; not in spam:\n",
    "spam[&#39;color&#39;] = &#39;black&#39;\n",
    "\n",
    "\n",
    "<b>Solution:"
   ]
  },
  {
   "cell_type": "code",
   "execution_count": 10,
   "id": "a82da6b5",
   "metadata": {},
   "outputs": [
    {
     "data": {
      "text/plain": [
       "{'dog': 69, 'color': 'black'}"
      ]
     },
     "execution_count": 10,
     "metadata": {},
     "output_type": "execute_result"
    }
   ],
   "source": [
    "spam3 = {'dog':69}\n",
    "\n",
    "spam3.setdefault('color','black')\n",
    "\n",
    "spam3"
   ]
  },
  {
   "cell_type": "markdown",
   "id": "ee584db1",
   "metadata": {},
   "source": [
    "<hr>Q8. How do you &quot;pretty print&quot; dictionary values using which module and function?\n",
    "\n",
    "<b>Solution:"
   ]
  },
  {
   "cell_type": "markdown",
   "id": "ba7c7d59",
   "metadata": {},
   "source": [
    "* We will use pprint(dictName) function of pprint module and makes it more readable as shown below"
   ]
  },
  {
   "cell_type": "code",
   "execution_count": 30,
   "id": "bea3cbee",
   "metadata": {},
   "outputs": [
    {
     "name": "stdout",
     "output_type": "stream",
     "text": [
      "Printing Dictonary using print() : \n",
      "\n",
      " {'foo': 45, 'cat': 33, 'apple': 1, 'dog': 69, 'color': 'black', 'aanested': {1: 'Neel', 2: 'Khush'}}\n",
      "\n",
      "\n",
      "Printing dictonary using pprint.pprint() : \n",
      "\n",
      "{'aanested': {1: 'Neel', 2: 'Khush'},\n",
      " 'apple': 1,\n",
      " 'cat': 33,\n",
      " 'color': 'black',\n",
      " 'dog': 69,\n",
      " 'foo': 45}\n"
     ]
    }
   ],
   "source": [
    "import pprint as pp\n",
    "\n",
    "dict3 = {'foo':45, 'cat':33, 'apple':1, 'dog':69, 'color':'black', 'aanested':{1:'Neel', 2:'Khush'}}\n",
    "\n",
    "print(\"Printing Dictonary using print() : \\n\\n\",dict3)\n",
    "print(\"\\n\\nPrinting dictonary using pprint.pprint() : \\n\")\n",
    "pp.pprint(dict3)"
   ]
  }
 ],
 "metadata": {
  "kernelspec": {
   "display_name": "Python 3 (ipykernel)",
   "language": "python",
   "name": "python3"
  },
  "language_info": {
   "codemirror_mode": {
    "name": "ipython",
    "version": 3
   },
   "file_extension": ".py",
   "mimetype": "text/x-python",
   "name": "python",
   "nbconvert_exporter": "python",
   "pygments_lexer": "ipython3",
   "version": "3.9.7"
  }
 },
 "nbformat": 4,
 "nbformat_minor": 5
}

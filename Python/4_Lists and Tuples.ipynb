{
 "cells": [
  {
   "cell_type": "markdown",
   "id": "2fed760c",
   "metadata": {},
   "source": [
    "# Assignment_4 - Lists and Tuples\n",
    "### Author : Neelkumar Kalavadiya\n",
    "### Submission Date : 25/05/2022, Wednesday"
   ]
  },
  {
   "cell_type": "markdown",
   "id": "7a3e3075",
   "metadata": {},
   "source": [
    "<hr>Q1. What exactly is []?\n",
    "\n",
    "<b>Solution:                           "
   ]
  },
  {
   "cell_type": "markdown",
   "id": "95b9b833",
   "metadata": {},
   "source": [
    "* It is actually a empty list which contains no values or items in it"
   ]
  },
  {
   "cell_type": "markdown",
   "id": "88e0e4ca",
   "metadata": {},
   "source": [
    "<hr>Q2. In a list of values stored in a variable called spam, how would you assign the value &#39;hello&#39; as the\n",
    "third value? (Assume [2, 4, 6, 8, 10] are in spam.)\n",
    "Let&#39;s pretend the spam includes the list [&#39;a&#39;, &#39;b&#39;, &#39;c&#39;, &#39;d&#39;] for the next three queries.\n",
    "\n",
    "<b>Solution:"
   ]
  },
  {
   "cell_type": "code",
   "execution_count": 1,
   "id": "19a19c4d",
   "metadata": {},
   "outputs": [
    {
     "name": "stdout",
     "output_type": "stream",
     "text": [
      "[2, 4, 6, 8, 10]\n",
      "[2, 4, 'hello', 8, 10]\n"
     ]
    }
   ],
   "source": [
    "spam = [2,4,6,8,10]\n",
    "print(spam)\n",
    "spam[2] = 'hello'\n",
    "print(spam)"
   ]
  },
  {
   "cell_type": "markdown",
   "id": "ba99ebac",
   "metadata": {},
   "source": [
    "<hr>Q3. What is the value of spam[int(int(&#39;3&#39; * 2) / 11)]?\n",
    "\n",
    "<b>Solution:"
   ]
  },
  {
   "cell_type": "markdown",
   "id": "95ce1705",
   "metadata": {},
   "source": [
    "* First int('3'*2) will be evaluated as 33 in integer form\n",
    "* Then it will be divided by 11 so it will be evaluated as 3\n",
    "* And then spam[3] will be evaluated as 'd'"
   ]
  },
  {
   "cell_type": "code",
   "execution_count": 4,
   "id": "2c7eedbf",
   "metadata": {},
   "outputs": [
    {
     "data": {
      "text/plain": [
       "'d'"
      ]
     },
     "execution_count": 4,
     "metadata": {},
     "output_type": "execute_result"
    }
   ],
   "source": [
    "spam = ['a','b','c','d']\n",
    "\n",
    "spam[int(int('3'*2)/11)]"
   ]
  },
  {
   "cell_type": "markdown",
   "id": "da941d29",
   "metadata": {},
   "source": [
    "<hr>Q4. What is the value of spam[-1]?\n",
    "\n",
    "<b>Solution:"
   ]
  },
  {
   "cell_type": "markdown",
   "id": "8fe9112b",
   "metadata": {},
   "source": [
    "* Index -1 will start looking into list in the reverse order so spam[-1] will be evaluated as 'd'"
   ]
  },
  {
   "cell_type": "code",
   "execution_count": 5,
   "id": "326ba153",
   "metadata": {},
   "outputs": [
    {
     "data": {
      "text/plain": [
       "'d'"
      ]
     },
     "execution_count": 5,
     "metadata": {},
     "output_type": "execute_result"
    }
   ],
   "source": [
    "spam[-1]"
   ]
  },
  {
   "cell_type": "markdown",
   "id": "a40e128b",
   "metadata": {},
   "source": [
    "<hr>Q5. What is the value of spam[:2]?\n",
    "Let&#39;s pretend bacon has the list [3.14, &#39;cat,&#39; 11, &#39;cat,&#39; True] for the next three questions.\n",
    "\n",
    "<b>Solution:"
   ]
  },
  {
   "cell_type": "markdown",
   "id": "07923614",
   "metadata": {},
   "source": [
    "* This will give the substring starting from index 0 till 1 because excluding 2."
   ]
  },
  {
   "cell_type": "code",
   "execution_count": 7,
   "id": "5cfd4447",
   "metadata": {},
   "outputs": [
    {
     "data": {
      "text/plain": [
       "['a', 'b']"
      ]
     },
     "execution_count": 7,
     "metadata": {},
     "output_type": "execute_result"
    }
   ],
   "source": [
    "spam[:2]"
   ]
  },
  {
   "cell_type": "markdown",
   "id": "ee588d8c",
   "metadata": {},
   "source": [
    "<hr>Q6. What is the value of bacon.index(&#39;cat&#39;)?\n",
    "\n",
    "<b>Solution:"
   ]
  },
  {
   "cell_type": "markdown",
   "id": "5eaa932a",
   "metadata": {},
   "source": [
    "* Here bacon.index('cat') will evaluate as 1 because index() function finds the index of first occurence of the element mentioned inside index function"
   ]
  },
  {
   "cell_type": "code",
   "execution_count": 6,
   "id": "95b695d1",
   "metadata": {},
   "outputs": [
    {
     "data": {
      "text/plain": [
       "1"
      ]
     },
     "execution_count": 6,
     "metadata": {},
     "output_type": "execute_result"
    }
   ],
   "source": [
    "bacon = [3.14,'cat',11,'cat',True]\n",
    "bacon.index('cat')"
   ]
  },
  {
   "cell_type": "markdown",
   "id": "892bf0cf",
   "metadata": {},
   "source": [
    "<hr>Q7. How does bacon.append(99) change the look of the list value in bacon?\n",
    "\n",
    "<b>Solution:"
   ]
  },
  {
   "cell_type": "markdown",
   "id": "9e55349f",
   "metadata": {},
   "source": [
    "* This will append 99 at the end of the list."
   ]
  },
  {
   "cell_type": "code",
   "execution_count": 8,
   "id": "6abd1ae4",
   "metadata": {},
   "outputs": [
    {
     "data": {
      "text/plain": [
       "[3.14, 'cat', 11, 'cat', True, 99]"
      ]
     },
     "execution_count": 8,
     "metadata": {},
     "output_type": "execute_result"
    }
   ],
   "source": [
    "bacon.append(99)\n",
    "\n",
    "bacon"
   ]
  },
  {
   "cell_type": "markdown",
   "id": "263d93d2",
   "metadata": {},
   "source": [
    "<hr>Q8. How does bacon.remove(&#39;cat&#39;) change the look of the list in bacon?\n",
    "\n",
    "<b>Solution:"
   ]
  },
  {
   "cell_type": "markdown",
   "id": "7ae95d81",
   "metadata": {},
   "source": [
    "* It will remove first occurence of 'cat' from the list"
   ]
  },
  {
   "cell_type": "code",
   "execution_count": 10,
   "id": "6c1d4d64",
   "metadata": {},
   "outputs": [
    {
     "data": {
      "text/plain": [
       "[3.14, 11, 'cat', True, 99]"
      ]
     },
     "execution_count": 10,
     "metadata": {},
     "output_type": "execute_result"
    }
   ],
   "source": [
    "bacon.remove('cat')\n",
    "bacon"
   ]
  },
  {
   "cell_type": "markdown",
   "id": "e1567a4c",
   "metadata": {},
   "source": [
    "<hr>Q9. What are the list concatenation and list replication operators?\n",
    "\n",
    "<b>Solution:"
   ]
  },
  {
   "cell_type": "markdown",
   "id": "1c5a0165",
   "metadata": {},
   "source": [
    "* We can concatenate two or more list using + operator\n",
    "* And we can replicate a list using * operator"
   ]
  },
  {
   "cell_type": "code",
   "execution_count": 15,
   "id": "e95e6624",
   "metadata": {},
   "outputs": [
    {
     "name": "stdout",
     "output_type": "stream",
     "text": [
      "List Concatenation : [2, 4, 5, 6, 7, 99, 11, 33, 44, 55, 77]\n",
      "List Replication : [2, 4, 5, 6, 7, 2, 4, 5, 6, 7]\n"
     ]
    }
   ],
   "source": [
    "list1 = [2,4,5,6,7]\n",
    "list2 = [99,11,33,44,55,77]\n",
    "\n",
    "print(f\"List Concatenation : {list1+list2}\")  #List Concatenation\n",
    "print(f\"List Replication : {list1*2}\") # List Replication"
   ]
  },
  {
   "cell_type": "markdown",
   "id": "f1d2fcb1",
   "metadata": {},
   "source": [
    "<hr>Q10. What is difference between the list methods append() and insert()?\n",
    "\n",
    "                              \n",
    "<b>Solution:"
   ]
  },
  {
   "cell_type": "markdown",
   "id": "c7223108",
   "metadata": {},
   "source": [
    "* append(element) always insert the element at the end of the list\n",
    "* insert(index,element) inserts the element at the specified index"
   ]
  },
  {
   "cell_type": "code",
   "execution_count": 19,
   "id": "b9fa3d89",
   "metadata": {},
   "outputs": [
    {
     "name": "stdout",
     "output_type": "stream",
     "text": [
      "append() Function : [2, 3, 4, 5, 6, 7, 99]\n",
      "insert() function : [2, 101, 3, 4, 5, 6, 7, 99]\n"
     ]
    }
   ],
   "source": [
    "list3 = [2,3,4,5,6,7]\n",
    "list3.append(99)\n",
    "print(f\"append() Function : {list3}\")\n",
    "\n",
    "list3.insert(1,101)\n",
    "print(f\"insert() function : {list3}\")"
   ]
  },
  {
   "cell_type": "markdown",
   "id": "16822d46",
   "metadata": {},
   "source": [
    "<hr>Q11. What are the two methods for removing items from a list?\n",
    "\n",
    "<b>Solution:"
   ]
  },
  {
   "cell_type": "markdown",
   "id": "4f9e7347",
   "metadata": {},
   "source": [
    "* pop(index) : Removes element from the specific index\n",
    "* remove(element) : Removes element specified in the function"
   ]
  },
  {
   "cell_type": "code",
   "execution_count": 36,
   "id": "f4d4eacd",
   "metadata": {},
   "outputs": [
    {
     "name": "stdout",
     "output_type": "stream",
     "text": [
      "pop() method : [1, 2, 4, 5]\n",
      "remove() method : [1, 4, 5]\n"
     ]
    }
   ],
   "source": [
    "list4 = [1,2,3,4,5]\n",
    "list4.pop(2)\n",
    "print(f\"pop() method : {list4}\")\n",
    "\n",
    "list4.remove(2)\n",
    "print(f\"remove() method : {list4}\")"
   ]
  },
  {
   "cell_type": "markdown",
   "id": "66349e81",
   "metadata": {},
   "source": [
    "<hr>Q12. Describe how list values and string values are identical.\n",
    "\n",
    "<b>Solution:"
   ]
  },
  {
   "cell_type": "markdown",
   "id": "e28cca1d",
   "metadata": {},
   "source": [
    "* Both can be categorized under sequence category\n",
    "* Both List values and string values can be accessed using indexing\n",
    "* Both List values and string values can be sliced using slicing operations\n",
    "* Both can be concatenated and replicated"
   ]
  },
  {
   "cell_type": "markdown",
   "id": "ee7fa05a",
   "metadata": {},
   "source": [
    "<hr>Q13. What&#39;s the difference between tuples and lists?\n",
    "\n",
    "<b>Solution:"
   ]
  },
  {
   "cell_type": "markdown",
   "id": "64d5a07b",
   "metadata": {},
   "source": [
    "* The major difference between tuples and lists is that the tuples are immutable while lists are mutable. For example we cannot perform insert,append,pop,remove operations in tuple while we can perform them in lists.\n",
    "* Tuples are surrounded by () normal parenthesis while lists are surrounded by [] square brackets"
   ]
  },
  {
   "cell_type": "markdown",
   "id": "5ac93b7e",
   "metadata": {},
   "source": [
    "<hr>Q14. How do you type a tuple value that only contains the integer 42?\n",
    "\n",
    "<b>Solution:"
   ]
  },
  {
   "cell_type": "markdown",
   "id": "eda1fbca",
   "metadata": {},
   "source": [
    "* To create tuple of single element we have to add , after the element."
   ]
  },
  {
   "cell_type": "code",
   "execution_count": 27,
   "id": "860e1582",
   "metadata": {},
   "outputs": [
    {
     "name": "stdout",
     "output_type": "stream",
     "text": [
      "<class 'int'>\n",
      "<class 'tuple'>\n"
     ]
    }
   ],
   "source": [
    "tup1 = (42)\n",
    "print(type(tup1))\n",
    "\n",
    "tup2 = (42,)\n",
    "print(type(tup2))"
   ]
  },
  {
   "cell_type": "markdown",
   "id": "17e8d6b4",
   "metadata": {},
   "source": [
    "<hr>Q15. How do you get a list value&#39;s tuple form? How do you get a tuple value&#39;s list form?\n",
    "\n",
    "<b>Solution:"
   ]
  },
  {
   "cell_type": "code",
   "execution_count": 34,
   "id": "5575afb6",
   "metadata": {},
   "outputs": [
    {
     "name": "stdout",
     "output_type": "stream",
     "text": [
      "List :  [2, 3, 4, 5, 6, 7]\n",
      "Tuple from List :  (2, 3, 4, 5, 6, 7)\n",
      "\n",
      "Tuple :  (6, 7, 99, 0, 11, 3)\n",
      "List from Tuple :  [6, 7, 99, 0, 11, 3]\n"
     ]
    }
   ],
   "source": [
    "list5 = [2,3,4,5,6,7]\n",
    "print(\"List : \",list5)\n",
    "tupForm = tuple(list5)\n",
    "print(\"Tuple from List : \",tupForm)\n",
    "\n",
    "tup5 = (6,7,99,0,11,3)\n",
    "print(\"\\nTuple : \",tup5)\n",
    "listForm = list(tup5)\n",
    "print(\"List from Tuple : \",listForm)"
   ]
  },
  {
   "cell_type": "markdown",
   "id": "8a5dd608",
   "metadata": {},
   "source": [
    "<hr>Q16. Variables that &quot;contain&quot; list values are not necessarily lists themselves. Instead, what do they\n",
    "contain?\n",
    "\n",
    "                              \n",
    "<b>Solution:"
   ]
  },
  {
   "cell_type": "markdown",
   "id": "b434fb96",
   "metadata": {},
   "source": [
    "* Variable that contain list values not actually contains list themselves but they actually contain reference to the values of lists"
   ]
  },
  {
   "cell_type": "markdown",
   "id": "0d589346",
   "metadata": {},
   "source": [
    "<hr>Q17. How do you distinguish between copy.copy() and copy.deepcopy()?\n",
    "                              \n",
    "<b>Solution:"
   ]
  },
  {
   "cell_type": "markdown",
   "id": "69976871",
   "metadata": {},
   "source": [
    "* <b>copy.copy() : </b> It make a copy of a list to a different memory location as explained in below example but for a nested list if we change the element of the list which is inside the main list then it also change into the other variable to which this list is assigned as explained in below example."
   ]
  },
  {
   "cell_type": "markdown",
   "id": "52ce5e03",
   "metadata": {},
   "source": [
    "* <b>copy.deepcopy() : </b> In deep copy inner list of the main list also gets copied unlike shallow copy and if we try to change the inner list element of one list then it will not change that element in other list."
   ]
  },
  {
   "cell_type": "markdown",
   "id": "788b04d5",
   "metadata": {},
   "source": [
    "#### Shallow copy : copy.copy() with single dimensional list"
   ]
  },
  {
   "cell_type": "code",
   "execution_count": 45,
   "id": "69a3a6b6",
   "metadata": {},
   "outputs": [
    {
     "data": {
      "text/plain": [
       "([1, 4, 7, 9], [1, 4, 7, 9])"
      ]
     },
     "execution_count": 45,
     "metadata": {},
     "output_type": "execute_result"
    }
   ],
   "source": [
    "import copy\n",
    "l1 = [1,4,7,9]\n",
    "l2 = copy.copy(l1)\n",
    "\n",
    "l1,l2"
   ]
  },
  {
   "cell_type": "code",
   "execution_count": 46,
   "id": "0589a8b7",
   "metadata": {},
   "outputs": [],
   "source": [
    "l2[2] = 99"
   ]
  },
  {
   "cell_type": "code",
   "execution_count": 47,
   "id": "12a7bf11",
   "metadata": {},
   "outputs": [
    {
     "data": {
      "text/plain": [
       "([1, 4, 7, 9], [1, 4, 99, 9])"
      ]
     },
     "execution_count": 47,
     "metadata": {},
     "output_type": "execute_result"
    }
   ],
   "source": [
    "l1,l2"
   ]
  },
  {
   "cell_type": "markdown",
   "id": "a2a8e77e",
   "metadata": {},
   "source": [
    "####  Shallow Copy : copy.copy() with multi dimensional list (Nested List)"
   ]
  },
  {
   "cell_type": "code",
   "execution_count": 48,
   "id": "53f785b0",
   "metadata": {},
   "outputs": [
    {
     "name": "stdout",
     "output_type": "stream",
     "text": [
      "l3 :  [[1, 2], [4, 5]]\n",
      "l4 :  [[1, 2], [4, 5]]\n"
     ]
    }
   ],
   "source": [
    "l3 = [[1,2],[4,5]]\n",
    "l4 = copy.copy(l3)\n",
    "\n",
    "print(\"l3 : \",l3)\n",
    "print(\"l4 : \",l4)"
   ]
  },
  {
   "cell_type": "code",
   "execution_count": 49,
   "id": "fb9b9506",
   "metadata": {},
   "outputs": [],
   "source": [
    "'''Here it will make changes to both the list l3 as well as l4 as we are \n",
    "    changing the inner list element and we have not created a copy of that list.\n",
    "'''\n",
    "l4[1][0] = 499  "
   ]
  },
  {
   "cell_type": "code",
   "execution_count": 50,
   "id": "eeb312c4",
   "metadata": {},
   "outputs": [
    {
     "name": "stdout",
     "output_type": "stream",
     "text": [
      "l3 :  [[1, 2], [499, 5]]\n",
      "l4 :  [[1, 2], [499, 5]]\n"
     ]
    }
   ],
   "source": [
    "print(\"l3 : \",l3)\n",
    "print(\"l4 : \",l4)"
   ]
  },
  {
   "cell_type": "code",
   "execution_count": 51,
   "id": "ce111446",
   "metadata": {},
   "outputs": [],
   "source": [
    "'''Here it will only make changes to the l3 because we are not changing the element of \n",
    "    inner list but directly replacing that whole inner list with new value which is 299.\n",
    "'''\n",
    "l3[1]= 299"
   ]
  },
  {
   "cell_type": "code",
   "execution_count": 52,
   "id": "8c620e40",
   "metadata": {},
   "outputs": [
    {
     "name": "stdout",
     "output_type": "stream",
     "text": [
      "l3 :  [[1, 2], 299]\n",
      "l4 :  [[1, 2], [499, 5]]\n"
     ]
    }
   ],
   "source": [
    "print(\"l3 : \",l3)\n",
    "print(\"l4 : \",l4)"
   ]
  },
  {
   "cell_type": "markdown",
   "id": "c78b199b",
   "metadata": {},
   "source": [
    "#### Deep copy : copy.deepcopy() with single dimensional list"
   ]
  },
  {
   "cell_type": "code",
   "execution_count": 53,
   "id": "3289a3be",
   "metadata": {},
   "outputs": [
    {
     "name": "stdout",
     "output_type": "stream",
     "text": [
      "l5 :  [1, 2, 3]\n",
      "l6 :  [1, 2, 3]\n"
     ]
    }
   ],
   "source": [
    "l5 = [1,2,3]\n",
    "l6 = copy.deepcopy(l5)\n",
    "\n",
    "print(\"l5 : \",l5)\n",
    "print(\"l6 : \",l6)"
   ]
  },
  {
   "cell_type": "code",
   "execution_count": 54,
   "id": "c207a5cd",
   "metadata": {},
   "outputs": [],
   "source": [
    "'''\n",
    "For single dimension list copy.copy() works same as copy.deepcopy()\n",
    "'''\n",
    "l6[0] = 69"
   ]
  },
  {
   "cell_type": "code",
   "execution_count": 55,
   "id": "63207940",
   "metadata": {},
   "outputs": [
    {
     "name": "stdout",
     "output_type": "stream",
     "text": [
      "l5 :  [1, 2, 3]\n",
      "l6 :  [69, 2, 3]\n"
     ]
    }
   ],
   "source": [
    "print(\"l5 : \",l5)\n",
    "print(\"l6 : \",l6)"
   ]
  },
  {
   "cell_type": "markdown",
   "id": "0ddba4bd",
   "metadata": {},
   "source": [
    "####  Deep Copy : copy.deepcopy() with multi dimensional list (Nested List)"
   ]
  },
  {
   "cell_type": "code",
   "execution_count": 56,
   "id": "090a7179",
   "metadata": {},
   "outputs": [
    {
     "name": "stdout",
     "output_type": "stream",
     "text": [
      "l7 :  [[4, 5], [7, 9]]\n",
      "l8 :  [[4, 5], [7, 9]]\n"
     ]
    }
   ],
   "source": [
    "l7 = [[4,5],[7,9]]\n",
    "l8 = copy.deepcopy(l7)\n",
    "\n",
    "print(\"l7 : \",l7)\n",
    "print(\"l8 : \",l8)"
   ]
  },
  {
   "cell_type": "code",
   "execution_count": 57,
   "id": "6ae52356",
   "metadata": {},
   "outputs": [],
   "source": [
    "'''For Multi Dimension if I replace the whole inner list item with other list or a value then it will change in one list only as \n",
    "    happend in copy.copy()\n",
    "'''\n",
    "l8[0] = 699"
   ]
  },
  {
   "cell_type": "code",
   "execution_count": 58,
   "id": "f5e0ae6f",
   "metadata": {},
   "outputs": [
    {
     "name": "stdout",
     "output_type": "stream",
     "text": [
      "l7 :  [[4, 5], [7, 9]]\n",
      "l8 :  [699, [7, 9]]\n"
     ]
    }
   ],
   "source": [
    "print(\"l7 : \",l7)\n",
    "print(\"l8 : \",l8)"
   ]
  },
  {
   "cell_type": "code",
   "execution_count": 59,
   "id": "fcfb0ae4",
   "metadata": {},
   "outputs": [],
   "source": [
    "'''\n",
    "But if we try to change the element of inner list then also it will make change to that particular \n",
    "list only unlike we have seen in copy.copy() in above example.\n",
    "'''\n",
    "\n",
    "l8[1][0] = 3919"
   ]
  },
  {
   "cell_type": "code",
   "execution_count": 60,
   "id": "0f63925d",
   "metadata": {},
   "outputs": [
    {
     "name": "stdout",
     "output_type": "stream",
     "text": [
      "l7 :  [[4, 5], [7, 9]]\n",
      "l8 :  [699, [3919, 9]]\n"
     ]
    }
   ],
   "source": [
    "print(\"l7 : \",l7)\n",
    "print(\"l8 : \",l8)"
   ]
  }
 ],
 "metadata": {
  "kernelspec": {
   "display_name": "Python 3 (ipykernel)",
   "language": "python",
   "name": "python3"
  },
  "language_info": {
   "codemirror_mode": {
    "name": "ipython",
    "version": 3
   },
   "file_extension": ".py",
   "mimetype": "text/x-python",
   "name": "python",
   "nbconvert_exporter": "python",
   "pygments_lexer": "ipython3",
   "version": "3.9.7"
  }
 },
 "nbformat": 4,
 "nbformat_minor": 5
}

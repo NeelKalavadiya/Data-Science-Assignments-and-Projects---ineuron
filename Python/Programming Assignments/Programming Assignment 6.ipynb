{
 "cells": [
  {
   "cell_type": "markdown",
   "id": "f8238ef3",
   "metadata": {},
   "source": [
    "# Python - Programming Assignment 6 \n",
    "### Author : Neelkumar Kalavadiya\n",
    "### Submission Date : 25/05/2022, Wednesday"
   ]
  },
  {
   "cell_type": "markdown",
   "id": "aac4ebb9",
   "metadata": {},
   "source": [
    "<hr>Q1. Write a Python Program to Display Fibonacci Sequence Using Recursion?\n",
    "\n",
    "Solution:"
   ]
  },
  {
   "cell_type": "code",
   "execution_count": 31,
   "id": "d0771d0c",
   "metadata": {},
   "outputs": [
    {
     "name": "stdout",
     "output_type": "stream",
     "text": [
      "Enter the number of Terms you need in fibbonacci sequence : 20\n",
      "1, 1, 2, 3, 5, 8, 13, 21, 34, 55, 89, 144, 233, 377, 610, 987, 1597, 2584, 4181, 6765\n"
     ]
    }
   ],
   "source": [
    "n = int(input(\"Enter the number of Terms you need in fibbonacci sequence : \").strip())\n",
    "\n",
    "def fibboRecur(n):\n",
    "    if n==1 or n==2:\n",
    "        return 1\n",
    "    else:\n",
    "        return fibboRecur(n-1) + fibboRecur(n-2)\n",
    "       \n",
    "if n<=0:\n",
    "    print(\"Invalid Input, Please enter positive number\")\n",
    "else:\n",
    "    for i in range(1,n+1):\n",
    "        print(fibboRecur(i), end=\", \")\n",
    "\n",
    "print(\"\\b\\b\")"
   ]
  },
  {
   "cell_type": "markdown",
   "id": "5deca2d7",
   "metadata": {},
   "source": [
    "<hr>Q2. Write a Python Program to Find Factorial of Number Using Recursion?\n",
    "\n",
    "Solution:"
   ]
  },
  {
   "cell_type": "code",
   "execution_count": 44,
   "id": "ff690577",
   "metadata": {},
   "outputs": [
    {
     "name": "stdout",
     "output_type": "stream",
     "text": [
      "Enter the Number : 4\n",
      "\n",
      "Output : Factorial of 4 is 24\n"
     ]
    }
   ],
   "source": [
    "num1 = int(input(\"Enter the Number : \").strip())\n",
    "\n",
    "def factRecur(num1):\n",
    "    if num1 == 0 or num1 == 1:\n",
    "        return 1\n",
    "    else:\n",
    "        return num1*factRecur(num1-1)\n",
    "\n",
    "print(f\"\\nOutput : Factorial of {num1} is {factRecur(num1)}\")"
   ]
  },
  {
   "cell_type": "markdown",
   "id": "4f1222ab",
   "metadata": {},
   "source": [
    "<hr>Q3. Write a Python Program to calculate your Body Mass Index?\n",
    "\n",
    "Solution:"
   ]
  },
  {
   "cell_type": "code",
   "execution_count": 53,
   "id": "74f35a24",
   "metadata": {},
   "outputs": [
    {
     "name": "stdout",
     "output_type": "stream",
     "text": [
      "Please enter your weight in kilograms : 75\n",
      "Please enter your height in centimeters : 175\n",
      "\n",
      "Normal BMI\n",
      "Output : Your BMI is 24.49\n"
     ]
    }
   ],
   "source": [
    "weight = int(input(\"Please enter your weight in kilograms : \").strip())\n",
    "height = int(input(\"Please enter your height in centimeters : \").strip())\n",
    "\n",
    "def BMIFunc(weight, height):\n",
    "    BMI = round(weight/((height/100)**2),2)\n",
    "    \n",
    "    if BMI<18.5:\n",
    "        print(\"\\nYou are UnderWeight\")\n",
    "    elif 18.5<=BMI<=24.9:\n",
    "        print(\"\\nNormal BMI\")\n",
    "    elif 25<=BMI<=29.9:\n",
    "        print(\"\\nYou are Overweight\")\n",
    "    elif 30<=BMI<=40:\n",
    "        print(\"\\nYou are Obese\")    \n",
    "        \n",
    "    return BMI    \n",
    "\n",
    "print(f\"Output : Your BMI is {BMIFunc(weight,height)}\")"
   ]
  },
  {
   "cell_type": "markdown",
   "id": "027c874e",
   "metadata": {},
   "source": [
    "<hr>Q4. Write a Python Program to calculate the natural logarithm of any number?\n",
    "\n",
    "Solution:"
   ]
  },
  {
   "cell_type": "code",
   "execution_count": 67,
   "id": "6b93b602",
   "metadata": {},
   "outputs": [
    {
     "name": "stdout",
     "output_type": "stream",
     "text": [
      "Enter any Number : 10\n",
      "\n",
      "Output : Natural Log value of 10 is 2.302585092994046\n"
     ]
    }
   ],
   "source": [
    "import math\n",
    "num2 = int(input(\"Enter any Number : \").strip())\n",
    "\n",
    "def naturalLog(num2):\n",
    "    return math.log(num2)\n",
    "    \n",
    "print(f\"\\nOutput : Natural Log value of {num2} is {naturalLog(num2)}\")"
   ]
  },
  {
   "cell_type": "markdown",
   "id": "c28c3989",
   "metadata": {},
   "source": [
    "<hr>Q5. Write a Python Program for cube sum of first n natural numbers?\n",
    "\n",
    "Solution:"
   ]
  },
  {
   "cell_type": "code",
   "execution_count": 81,
   "id": "3667e6c3",
   "metadata": {},
   "outputs": [
    {
     "name": "stdout",
     "output_type": "stream",
     "text": [
      "Enter the number : 10\n",
      "\n",
      "Output : Cube Sum of first 10 natural numbers is 3025.0\n"
     ]
    }
   ],
   "source": [
    "num3 = int(input(\"Enter the number : \").strip())\n",
    "\n",
    "def cubeFunc(num3):\n",
    "    result = (((num3**2)+num3)/2)**2\n",
    "    return result\n",
    "    \n",
    "print(f\"\\nOutput : Cube Sum of first {num3} natural numbers is {cubeFunc(num3)}\")"
   ]
  }
 ],
 "metadata": {
  "kernelspec": {
   "display_name": "Python 3 (ipykernel)",
   "language": "python",
   "name": "python3"
  },
  "language_info": {
   "codemirror_mode": {
    "name": "ipython",
    "version": 3
   },
   "file_extension": ".py",
   "mimetype": "text/x-python",
   "name": "python",
   "nbconvert_exporter": "python",
   "pygments_lexer": "ipython3",
   "version": "3.9.7"
  }
 },
 "nbformat": 4,
 "nbformat_minor": 5
}

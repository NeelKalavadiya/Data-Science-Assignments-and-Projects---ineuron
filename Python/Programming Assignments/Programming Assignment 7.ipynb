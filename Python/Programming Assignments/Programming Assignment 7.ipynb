{
 "cells": [
  {
   "cell_type": "markdown",
   "id": "c9867832",
   "metadata": {},
   "source": [
    "# Python - Programming Assignment 7 \n",
    "### Author : Neelkumar Kalavadiya\n",
    "### Submission Date : 30/05/2022, Monday"
   ]
  },
  {
   "cell_type": "markdown",
   "id": "c51cc3ad",
   "metadata": {},
   "source": [
    "<hr>Q1. Write a Python Program to find sum of array?\n",
    "\n",
    "Solution:"
   ]
  },
  {
   "cell_type": "code",
   "execution_count": 3,
   "id": "81d77ca5",
   "metadata": {},
   "outputs": [
    {
     "name": "stdout",
     "output_type": "stream",
     "text": [
      "152\n"
     ]
    }
   ],
   "source": [
    "import functools\n",
    "arr1 = [1,3,55,72,21]\n",
    "\n",
    "print(functools.reduce(lambda a,b : a+b,arr1))"
   ]
  },
  {
   "cell_type": "markdown",
   "id": "bee70d3e",
   "metadata": {},
   "source": [
    "<hr>Q2. Write a Python Program to find largest element in an array?\n",
    "\n",
    "Solution:"
   ]
  },
  {
   "cell_type": "markdown",
   "id": "6aada34e",
   "metadata": {},
   "source": [
    "#### Solution - 1"
   ]
  },
  {
   "cell_type": "code",
   "execution_count": 10,
   "id": "8da34276",
   "metadata": {},
   "outputs": [
    {
     "name": "stdout",
     "output_type": "stream",
     "text": [
      "Maximum value is 91\n"
     ]
    }
   ],
   "source": [
    "arr2 = [4,88,91,23,45,76,77]\n",
    "\n",
    "maxVal = 0\n",
    "for i in arr2:\n",
    "    if i>maxVal:\n",
    "        maxVal = i\n",
    "print(f\"Maximum value is {maxVal}\")"
   ]
  },
  {
   "cell_type": "markdown",
   "id": "aa320c15",
   "metadata": {},
   "source": [
    "#### Solution - 2"
   ]
  },
  {
   "cell_type": "code",
   "execution_count": 11,
   "id": "838fa70e",
   "metadata": {},
   "outputs": [
    {
     "name": "stdout",
     "output_type": "stream",
     "text": [
      "Maximum value is 91\n"
     ]
    }
   ],
   "source": [
    "arr2 = [4,88,91,23,45,76,77]\n",
    "\n",
    "print(f\"Maximum value is {max(arr2)}\")"
   ]
  },
  {
   "cell_type": "markdown",
   "id": "1786808c",
   "metadata": {},
   "source": [
    "<hr>Q3. Write a Python Program for array rotation?\n",
    "\n",
    "Solution:"
   ]
  },
  {
   "cell_type": "code",
   "execution_count": 51,
   "id": "fdd442b2",
   "metadata": {},
   "outputs": [
    {
     "name": "stdout",
     "output_type": "stream",
     "text": [
      "[35, 2, 34, 1, 5, 2, 97, 3, 45]\n"
     ]
    }
   ],
   "source": [
    "arr12 = [3,45,35,2,34,1,5,2,97]\n",
    "\n",
    "def arrRotate(arr,rotateFromWhere):\n",
    "    arr = arr[rotateFromWhere:] + arr[0:rotateFromWhere]\n",
    "    return arr\n",
    "\n",
    "print(arrRotate(arr12,2))"
   ]
  },
  {
   "cell_type": "markdown",
   "id": "e5abb660",
   "metadata": {},
   "source": [
    "<hr>Q4. Write a Python Program to Split the array and add the first part to the end?\n",
    "\n",
    "Solution:"
   ]
  },
  {
   "cell_type": "code",
   "execution_count": 49,
   "id": "5e660ffd",
   "metadata": {},
   "outputs": [
    {
     "name": "stdout",
     "output_type": "stream",
     "text": [
      "[4, 5, 6, 7, 1, 2, 3]\n"
     ]
    }
   ],
   "source": [
    "arr3 = [1,2,3,4,5,6,7]\n",
    "\n",
    "def arrSplit(arr,index):\n",
    "    arr = arr[index:] + arr[:index]\n",
    "    return arr\n",
    "\n",
    "print(arrSplit(arr3,3))\n"
   ]
  },
  {
   "cell_type": "markdown",
   "id": "5fe11c88",
   "metadata": {},
   "source": [
    "<hr>Q5. Write a Python Program to check if given array is Monotonic?\n",
    "\n",
    "Solution:"
   ]
  },
  {
   "cell_type": "code",
   "execution_count": 36,
   "id": "7cd8442f",
   "metadata": {},
   "outputs": [
    {
     "name": "stdout",
     "output_type": "stream",
     "text": [
      "Monotonic\n",
      "Monotonic\n",
      "Not Monotonic\n",
      "Not Monotonic\n",
      "Not Monotonic\n",
      "Not Monotonic\n",
      "Not Monotonic\n"
     ]
    }
   ],
   "source": [
    "import sys\n",
    "\n",
    "arr5 = [1,2,3,4,5]  # Monotonic\n",
    "arr6 = [5,4,3,2,1]  # Monotonic\n",
    "\n",
    "arr7 = [1,2,3,4,5,3,2]  # Non-Monotonic\n",
    "arr8 = [5,4,3,2,1,7,5]  # Non-Monotonic\n",
    "\n",
    "arr9 = [1,1,2,3,4,5]   # Non-Monotonic\n",
    "arr10 = [5,4,3,2,1,1]  # Non-Monotonic\n",
    "arr11 = [1,1,1,1]      # Non-Monotonic\n",
    "\n",
    "\n",
    "def arrMonotonic(arr):\n",
    "    maxVal = 0\n",
    "    minVal = sys.maxsize\n",
    "    if arr[1] > arr[0]:\n",
    "        for i in range(len(arr)):\n",
    "            if arr[i]<maxVal:\n",
    "                print(\"Not Monotonic\")\n",
    "                break\n",
    "            else:\n",
    "                maxVal = arr[i]\n",
    "        else:\n",
    "            print(\"Monotonic\")\n",
    "    elif arr[1]<arr[0]:\n",
    "        for i in range(len(arr)):\n",
    "            if arr[i]>=minVal:\n",
    "                print(\"Not Monotonic\")\n",
    "                break\n",
    "            else:\n",
    "                minVal = arr[i]\n",
    "        else:\n",
    "            print(\"Monotonic\")\n",
    "\n",
    "    elif arr[1] == arr[0]:\n",
    "        print(\"Not Monotonic\")\n",
    "        \n",
    "        \n",
    "arrMonotonic(arr5)\n",
    "arrMonotonic(arr6)\n",
    "arrMonotonic(arr7)\n",
    "arrMonotonic(arr8)\n",
    "arrMonotonic(arr9)\n",
    "arrMonotonic(arr10)\n",
    "arrMonotonic(arr11)"
   ]
  }
 ],
 "metadata": {
  "kernelspec": {
   "display_name": "Python 3 (ipykernel)",
   "language": "python",
   "name": "python3"
  },
  "language_info": {
   "codemirror_mode": {
    "name": "ipython",
    "version": 3
   },
   "file_extension": ".py",
   "mimetype": "text/x-python",
   "name": "python",
   "nbconvert_exporter": "python",
   "pygments_lexer": "ipython3",
   "version": "3.9.7"
  }
 },
 "nbformat": 4,
 "nbformat_minor": 5
}

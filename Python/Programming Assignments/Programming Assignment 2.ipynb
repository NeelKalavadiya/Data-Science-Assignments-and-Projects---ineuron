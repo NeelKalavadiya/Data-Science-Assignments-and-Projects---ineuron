{
 "cells": [
  {
   "cell_type": "markdown",
   "id": "fa9e651c",
   "metadata": {},
   "source": [
    "# Python - Programming Assignment 2 \n",
    "### Author : Neelkumar Kalavadiya\n",
    "### Submission Date : 22/05/2022, Sunday"
   ]
  },
  {
   "cell_type": "markdown",
   "id": "02164045",
   "metadata": {},
   "source": [
    "<hr>Q1. Write a Python program to convert kilometers to miles?\n",
    "\n",
    "Solution:"
   ]
  },
  {
   "cell_type": "code",
   "execution_count": 59,
   "id": "f23d8546",
   "metadata": {},
   "outputs": [
    {
     "name": "stdout",
     "output_type": "stream",
     "text": [
      "1 Kilometer is equal to 0.621371 miles\n",
      "10 Kilometer is equal to 6.21371 miles\n"
     ]
    }
   ],
   "source": [
    "def kmToMiles(kilometerValue):\n",
    "    '''\n",
    "        1 Kilometer = 0.621371 Miles\n",
    "        \n",
    "        Miles = Kilometer Value x 0.621371\n",
    "    '''\n",
    "    \n",
    "    return kilometerValue*0.621371\n",
    "\n",
    "\n",
    "\n",
    "Miles1 = kmToMiles(1)\n",
    "print(f\"1 Kilometer is equal to {Miles1} miles\")\n",
    "\n",
    "Miles2 = kmToMiles(10)\n",
    "print(f\"10 Kilometer is equal to {Miles2} miles\")\n",
    "    "
   ]
  },
  {
   "cell_type": "markdown",
   "id": "f9ad9308",
   "metadata": {},
   "source": [
    "<hr>Q2. Write a Python program to convert Celsius to Fahrenheit?\n",
    "\n",
    "Solution:"
   ]
  },
  {
   "cell_type": "code",
   "execution_count": 60,
   "id": "942237db",
   "metadata": {},
   "outputs": [
    {
     "name": "stdout",
     "output_type": "stream",
     "text": [
      "0 Degree of Celsius is equal to 32.0 Degree Farenhite\n",
      "1 Degree of Celsius is equal to 33.8 Degree Farenhite\n",
      "25 Degree of Celsius is equal to 77.0 Degree Farenhite\n"
     ]
    }
   ],
   "source": [
    "def celsiusToFarenhite(celsiusValue):\n",
    "    '''\n",
    "        Farenhite Value = (1.8 x Celsius Value) + 32\n",
    "    '''\n",
    "    \n",
    "    return ((1.8 * celsiusValue) + 32)\n",
    "\n",
    "\n",
    "\n",
    "farenhite1 = celsiusToFarenhite(0)\n",
    "print(f\"0 Degree of Celsius is equal to {farenhite1} Degree Farenhite\")\n",
    "\n",
    "farenhite1 = celsiusToFarenhite(1)\n",
    "print(f\"1 Degree of Celsius is equal to {farenhite1} Degree Farenhite\")\n",
    "\n",
    "farenhite1 = celsiusToFarenhite(25)\n",
    "print(f\"25 Degree of Celsius is equal to {farenhite1} Degree Farenhite\")\n",
    "    "
   ]
  },
  {
   "cell_type": "markdown",
   "id": "e25c268f",
   "metadata": {},
   "source": [
    "<hr>Q3. Write a Python program to display calendar?\n",
    "\n",
    "Solution:"
   ]
  },
  {
   "cell_type": "code",
   "execution_count": 61,
   "id": "a037263a",
   "metadata": {},
   "outputs": [
    {
     "name": "stdout",
     "output_type": "stream",
     "text": [
      "Enter year in yyyy format : 1997\n",
      "Enter month in its original digit : 11\n",
      "   November 1997\n",
      "Mo Tu We Th Fr Sa Su\n",
      "                1  2\n",
      " 3  4  5  6  7  8  9\n",
      "10 11 12 13 14 15 16\n",
      "17 18 19 20 21 22 23\n",
      "24 25 26 27 28 29 30\n",
      "\n"
     ]
    }
   ],
   "source": [
    "import calendar\n",
    "\n",
    "year = int(input(\"Enter year in yyyy format : \"))\n",
    "month = int(input(\"Enter month in its original digit : \"))\n",
    "\n",
    "print(calendar.month(year,month))"
   ]
  },
  {
   "cell_type": "markdown",
   "id": "5483d96f",
   "metadata": {},
   "source": [
    "<hr>Q4. Write a Python program to solve quadratic equation?\n",
    "\n",
    "Solution:"
   ]
  },
  {
   "cell_type": "code",
   "execution_count": 62,
   "id": "48ffa4ec",
   "metadata": {},
   "outputs": [
    {
     "name": "stdout",
     "output_type": "stream",
     "text": [
      "Value of D is 9\n",
      "As value of D is positive, Quadratic Equation will have 2 Real and Different roots\n",
      "First Root is 5.0\n",
      "Second Root is 2.0\n",
      "\n",
      "\n",
      "Value of D is -16\n",
      "As value of D is negative, Quadratic Equation will have 2 Complex roots\n",
      "First Negative Root is (3+2j)\n",
      "Second Negative Root is (3-2j)\n",
      "\n",
      "\n",
      "Value of D is 0\n",
      "As value of D is equal to 0, Quadratic Equation will have 2 Real and Equal roots\n",
      "Both roots are identical and it is 0.5\n",
      "\n",
      "\n"
     ]
    }
   ],
   "source": [
    "def quadraticEquationSolutions(a,b,c):\n",
    "    D = (b**2) - (4*a*c)\n",
    "    print(f\"Value of D is {D}\")\n",
    "    rootD = ((b**2) - (4*a*c))**0.5\n",
    "\n",
    "    rootA = (-b + rootD)/(2*a)\n",
    "    rootB = (-b - rootD)/(2*a)\n",
    "    \n",
    "    \n",
    "    if D>0:\n",
    "        print(\"As value of D is positive, Quadratic Equation will have 2 Real and Different roots\")\n",
    "        \n",
    "        print(f\"First Root is {rootA}\")\n",
    "        print(f\"Second Root is {rootB}\")\n",
    "        \n",
    "    elif D<0:\n",
    "        print(\"As value of D is negative, Quadratic Equation will have 2 Complex roots\")\n",
    "        \n",
    "        print(f\"First Negative Root is {rootA}\")\n",
    "        print(f\"Second Negative Root is {rootB}\")\n",
    "    \n",
    "    elif D==0:\n",
    "        print(\"As value of D is equal to 0, Quadratic Equation will have 2 Real and Equal roots\")\n",
    "\n",
    "        print(f\"Both roots are identical and it is {rootA}\")\n",
    "        \n",
    "    print()\n",
    "    print()\n",
    "    \n",
    "    \n",
    "    \n",
    "\n",
    "quadraticEquationSolutions(1,-7,10)\n",
    "\n",
    "\n",
    "# Negative Roots Examples\n",
    "quadraticEquationSolutions(1,-6,13)\n",
    "# quadraticEquationSolutions(1,3,4)\n",
    "\n",
    "\n",
    "quadraticEquationSolutions(4,-4,1)"
   ]
  },
  {
   "cell_type": "markdown",
   "id": "93f71b39",
   "metadata": {},
   "source": [
    "<hr>Q5. Write a Python program to swap two variables without temp variable?\n",
    "\n",
    "Solution:"
   ]
  },
  {
   "cell_type": "code",
   "execution_count": 15,
   "id": "848ca358",
   "metadata": {},
   "outputs": [
    {
     "name": "stdout",
     "output_type": "stream",
     "text": [
      "Value of a and b is 10 and 50 respectively before SWAP\n",
      "Value of a and b is 50 and 10 respectively before SWAP\n"
     ]
    }
   ],
   "source": [
    "a = 10\n",
    "b = 50\n",
    "print(f\"Value of a and b is {a} and {b} respectively before SWAP\")\n",
    "\n",
    "a,b = b,a\n",
    "\n",
    "print(f\"Value of a and b is {a} and {b} respectively before SWAP\")"
   ]
  }
 ],
 "metadata": {
  "kernelspec": {
   "display_name": "Python 3 (ipykernel)",
   "language": "python",
   "name": "python3"
  },
  "language_info": {
   "codemirror_mode": {
    "name": "ipython",
    "version": 3
   },
   "file_extension": ".py",
   "mimetype": "text/x-python",
   "name": "python",
   "nbconvert_exporter": "python",
   "pygments_lexer": "ipython3",
   "version": "3.9.7"
  }
 },
 "nbformat": 4,
 "nbformat_minor": 5
}

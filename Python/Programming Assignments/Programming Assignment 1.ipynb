{
 "cells": [
  {
   "cell_type": "markdown",
   "id": "3a50bbe4",
   "metadata": {},
   "source": [
    "# Python - Programming Assignment 1 \n",
    "### Author : Neelkumar Kalavadiya\n",
    "### Submission Date : 22/05/2022"
   ]
  },
  {
   "cell_type": "markdown",
   "id": "412c6abf",
   "metadata": {},
   "source": [
    "<hr>Q1. Write a Python program to print &quot;Hello Python&quot;?\n",
    "\n",
    "Solution: "
   ]
  },
  {
   "cell_type": "code",
   "execution_count": 67,
   "id": "6fb05a82",
   "metadata": {},
   "outputs": [
    {
     "name": "stdout",
     "output_type": "stream",
     "text": [
      "Hello Python\n"
     ]
    }
   ],
   "source": [
    "print(\"Hello Python\")"
   ]
  },
  {
   "cell_type": "markdown",
   "id": "692ea601",
   "metadata": {},
   "source": [
    "<hr>Q2. Write a Python program to do arithmetical operations addition and division.?\n",
    "\n",
    "Solution:"
   ]
  },
  {
   "cell_type": "code",
   "execution_count": 68,
   "id": "65452052",
   "metadata": {},
   "outputs": [
    {
     "name": "stdout",
     "output_type": "stream",
     "text": [
      "30\n",
      "2.0\n"
     ]
    }
   ],
   "source": [
    "a = 20\n",
    "b = 10\n",
    "\n",
    "print(a+b)\n",
    "print(a/b)"
   ]
  },
  {
   "cell_type": "markdown",
   "id": "476ac0f2",
   "metadata": {},
   "source": [
    "<hr>Q3. Write a Python program to find the area of a triangle?\n",
    "\n",
    "Solution:"
   ]
  },
  {
   "cell_type": "markdown",
   "id": "95af5458",
   "metadata": {},
   "source": [
    "#### Area Of Triangle using Base and Altitude of triangle"
   ]
  },
  {
   "cell_type": "code",
   "execution_count": 69,
   "id": "fa7bdf14",
   "metadata": {},
   "outputs": [
    {
     "name": "stdout",
     "output_type": "stream",
     "text": [
      "Area using base and altitude is :  4.0\n"
     ]
    }
   ],
   "source": [
    "def baseAltitudeArea(base,altitude):\n",
    "    '''\n",
    "        Area = (Base x Altitude)/2\n",
    "    '''\n",
    "    \n",
    "    return 0.5*base*altitude\n",
    "\n",
    "A1 = baseAltitudeArea(4,2)\n",
    "print(\"Area using base and altitude is : \", A1)    "
   ]
  },
  {
   "cell_type": "markdown",
   "id": "e4f35d2b",
   "metadata": {},
   "source": [
    "#### Area Of Triangle using Heron's Formula when we have 3 sides"
   ]
  },
  {
   "cell_type": "code",
   "execution_count": 70,
   "id": "775aaf66",
   "metadata": {},
   "outputs": [
    {
     "name": "stdout",
     "output_type": "stream",
     "text": [
      "Area using Three sides is :  6.0\n",
      "Area using Three sides is :  24.0\n"
     ]
    }
   ],
   "source": [
    "def threeSidesArea(a,b,c):\n",
    "    '''\n",
    "    Heron's Formula\n",
    "        s(Semi-Perimeter) = a+b+c/2\n",
    "        Area = (s*(s-a)*(s-b)*(s-c))**0.5\n",
    "    '''\n",
    "    s = (a+b+c)/2\n",
    "    Area = (s*(s-a)*(s-b)*(s-c))**0.5\n",
    "    \n",
    "    return Area\n",
    "    \n",
    "    \n",
    "    \n",
    "A2 = threeSidesArea(3,4,5)\n",
    "print(\"Area using Three sides is : \", A2)\n",
    "\n",
    "A3 = threeSidesArea(13,15,4)\n",
    "print(\"Area using Three sides is : \", A3)"
   ]
  },
  {
   "cell_type": "markdown",
   "id": "ae3146e8",
   "metadata": {},
   "source": [
    "<hr>Q4. Write a Python program to swap two variables?\n",
    "\n",
    "Solution:"
   ]
  },
  {
   "cell_type": "markdown",
   "id": "0901a85d",
   "metadata": {},
   "source": [
    "#### Solution:1"
   ]
  },
  {
   "cell_type": "code",
   "execution_count": 71,
   "id": "fd6716eb",
   "metadata": {},
   "outputs": [
    {
     "name": "stdout",
     "output_type": "stream",
     "text": [
      "Value of a and b is 5 and 10 respectively before SWAP\n",
      "Value of a and b is 10 and 5 respectively after SWAP\n"
     ]
    }
   ],
   "source": [
    "a = 5\n",
    "b = 10\n",
    "print(f\"Value of a and b is {a} and {b} respectively before SWAP\")\n",
    "\n",
    "temp = a\n",
    "a = b\n",
    "b = temp\n",
    "\n",
    "print(f\"Value of a and b is {a} and {b} respectively after SWAP\")"
   ]
  },
  {
   "cell_type": "markdown",
   "id": "f443951d",
   "metadata": {},
   "source": [
    "#### Solution: 2"
   ]
  },
  {
   "cell_type": "code",
   "execution_count": 72,
   "id": "2cbd4a7e",
   "metadata": {},
   "outputs": [
    {
     "name": "stdout",
     "output_type": "stream",
     "text": [
      "Value of a and b is 40 and 50 respectively before SWAP\n",
      "Value of a and b is 50 and 40 respectively before SWAP\n"
     ]
    }
   ],
   "source": [
    "d = 40\n",
    "e = 50\n",
    "print(f\"Value of a and b is {d} and {e} respectively before SWAP\")\n",
    "\n",
    "d,e = e,d\n",
    "\n",
    "print(f\"Value of a and b is {d} and {e} respectively before SWAP\")"
   ]
  },
  {
   "cell_type": "markdown",
   "id": "8ec4cf89",
   "metadata": {},
   "source": [
    "<hr>Q5. Write a Python program to generate a random number?\n",
    "\n",
    "Solution:"
   ]
  },
  {
   "cell_type": "code",
   "execution_count": 73,
   "id": "0e5ad2ac",
   "metadata": {},
   "outputs": [
    {
     "name": "stdout",
     "output_type": "stream",
     "text": [
      "58\n"
     ]
    }
   ],
   "source": [
    "import random\n",
    "\n",
    "print(random.randint(1,100))"
   ]
  }
 ],
 "metadata": {
  "kernelspec": {
   "display_name": "Python 3 (ipykernel)",
   "language": "python",
   "name": "python3"
  },
  "language_info": {
   "codemirror_mode": {
    "name": "ipython",
    "version": 3
   },
   "file_extension": ".py",
   "mimetype": "text/x-python",
   "name": "python",
   "nbconvert_exporter": "python",
   "pygments_lexer": "ipython3",
   "version": "3.9.7"
  }
 },
 "nbformat": 4,
 "nbformat_minor": 5
}

{
 "cells": [
  {
   "cell_type": "markdown",
   "id": "527f86a9",
   "metadata": {},
   "source": [
    "# Python - Programming Assignment 5 \n",
    "### Author : Neelkumar Kalavadiya\n",
    "### Submission Date : 24/05/2022, Tuesday"
   ]
  },
  {
   "cell_type": "markdown",
   "id": "9efe378f",
   "metadata": {},
   "source": [
    "<hr>Q1. Write a Python Program to Find LCM?\n",
    "\n",
    "Solution:"
   ]
  },
  {
   "cell_type": "markdown",
   "id": "c647693f",
   "metadata": {},
   "source": [
    "#### Solution - 1 (Less Feasible)"
   ]
  },
  {
   "cell_type": "code",
   "execution_count": 163,
   "id": "30740613",
   "metadata": {},
   "outputs": [
    {
     "name": "stdout",
     "output_type": "stream",
     "text": [
      "Enter First Number : 6\n",
      "Enter Second Number : 8\n",
      "\n",
      "LCM of 6 and 8 is 24\n"
     ]
    }
   ],
   "source": [
    "A = int(input(\"Enter First Number : \").strip())\n",
    "B = int(input(\"Enter Second Number : \").strip())\n",
    "def lcmFunc1(A,B):\n",
    "    lstA = []\n",
    "    lstB = []\n",
    "    \n",
    "    lcmFound = False\n",
    "    for i in range(1,100000):\n",
    "        lstA.append(A*i)\n",
    "        lstB.append(B*i)\n",
    "        for i in lstB:\n",
    "            if i in lstA:\n",
    "                    lcmFound = True\n",
    "                    return i\n",
    "    \n",
    "    \n",
    "\n",
    "print(f\"\\nLCM of {A} and {B} is {lcmFunc1(A,B)}\")"
   ]
  },
  {
   "cell_type": "markdown",
   "id": "b53451cb",
   "metadata": {},
   "source": [
    "#### Solution - 2 (More Feasible)"
   ]
  },
  {
   "cell_type": "code",
   "execution_count": 166,
   "id": "762f25e9",
   "metadata": {},
   "outputs": [
    {
     "name": "stdout",
     "output_type": "stream",
     "text": [
      "LCM of 6 and 8 is : 24\n",
      "LCM of 6,8 and 9 is : 72\n",
      "LCM of 6,8,9 and 10 is : 360\n"
     ]
    }
   ],
   "source": [
    "def lcmFunc2(a=None, b=None, c=None, d=None):\n",
    "    if a != None and b != None and c == None and d == None:\n",
    "        lst = [a,b]\n",
    "        maxVal = max(lst)\n",
    "\n",
    "        while(True):\n",
    "            if(maxVal % a == 0 and maxVal % b == 0):   \n",
    "                return maxVal\n",
    "                break;\n",
    "            maxVal= maxVal+ 1\n",
    "            \n",
    "    elif a != None and b != None and c != None and d == None:\n",
    "        lst = [a,b,c]\n",
    "        maxVal = max(lst)\n",
    "\n",
    "        while(True):\n",
    "            if(maxVal % a == 0 and maxVal % b == 0 and maxVal % c == 0):   \n",
    "                return maxVal\n",
    "                break;\n",
    "            maxVal= maxVal+ 1\n",
    "            \n",
    "    else:\n",
    "        lst = [a,b,c,d]\n",
    "        maxVal = max(lst)\n",
    "\n",
    "        while(True):\n",
    "            if(maxVal % a == 0 and maxVal % b == 0 and maxVal % c == 0 and maxVal % d == 0):   \n",
    "                return maxVal\n",
    "                break;\n",
    "            maxVal= maxVal+ 1\n",
    "        \n",
    "        \n",
    "print(f\"LCM of 6 and 8 is : {lcmFunc2(6,8)}\")        \n",
    "print(f\"LCM of 6,8 and 9 is : {lcmFunc2(6,8,9)}\")\n",
    "print(f\"LCM of 6,8,9 and 10 is : {lcmFunc2(6,8,9,10)}\")    "
   ]
  },
  {
   "cell_type": "markdown",
   "id": "e8f95367",
   "metadata": {},
   "source": [
    "<hr>Q2. Write a Python Program to Find HCF?\n",
    "\n",
    "Solution:"
   ]
  },
  {
   "cell_type": "markdown",
   "id": "332dfe40",
   "metadata": {},
   "source": [
    "#### Solution - 1 (Less Feasible for large inputs)"
   ]
  },
  {
   "cell_type": "code",
   "execution_count": 167,
   "id": "dc943b1c",
   "metadata": {},
   "outputs": [
    {
     "name": "stdout",
     "output_type": "stream",
     "text": [
      "HCF of 22 and 121 is : 11\n",
      "LCM of 22 and 121 is : 242\n"
     ]
    }
   ],
   "source": [
    "import functools\n",
    "\n",
    "def hcfFunc1(A,B):\n",
    "    originalA = A\n",
    "    originalB = B\n",
    "    \n",
    "    lstA = []\n",
    "    lstB = []\n",
    "    primeLst = []\n",
    "    \n",
    "    maxVal = max(A,B)\n",
    "    \n",
    "    for testNumber in range(2,maxVal+1):\n",
    "        for j in range(2,testNumber):\n",
    "            if testNumber%j == 0:\n",
    "                break\n",
    "        else:\n",
    "            primeLst.append(testNumber)\n",
    "    \n",
    "#     print(primeLst)\n",
    "    while(True):\n",
    "        for i in primeLst:\n",
    "            if A%i == 0:\n",
    "                lstA.append(i)\n",
    "                A = A/i\n",
    "                break\n",
    "        if A == 1:\n",
    "            break\n",
    "    \n",
    "    while(True):\n",
    "        for i in primeLst:\n",
    "            if B%i == 0:\n",
    "                lstB.append(i)\n",
    "                B = B/i\n",
    "                break\n",
    "        if B == 1:\n",
    "            break\n",
    "        \n",
    "#     print(lstA)\n",
    "#     print(lstB)\n",
    "    \n",
    "    finalFactorList = []\n",
    "    \n",
    "    for i in lstA:\n",
    "        for j in lstB:\n",
    "            if i == j:\n",
    "                finalFactorList.append(i)\n",
    "                \n",
    "                indexOfI = lstA.index(i)\n",
    "                lstA.remove(i) \n",
    "                lstA.insert(indexOfI, None)\n",
    "                \n",
    "                indexOfJ = lstB.index(j)\n",
    "                lstB.remove(j)\n",
    "                lstB.insert(indexOfJ, None)\n",
    "                break\n",
    "            \n",
    "#     print(finalFactorList)\n",
    "    \n",
    "    \n",
    "    gcd = 1\n",
    "    if finalFactorList != []:\n",
    "        gcd = functools.reduce(lambda a, b : a*b, finalFactorList)\n",
    "        print(f\"HCF of {originalA} and {originalB} is : {gcd}\")\n",
    "    else:\n",
    "        print(f\"HCF of {originalA} and {originalB} is 1\")\n",
    "    \n",
    "    \n",
    "    lcmFactorList = [gcd]\n",
    "    for i in lstA:\n",
    "        if i != None:\n",
    "            lcmFactorList.append(i)\n",
    "    for i in lstB:\n",
    "        if i != None:\n",
    "            lcmFactorList.append(i)\n",
    "    \n",
    "    print(f\"LCM of {originalA} and {originalB} is : {functools.reduce(lambda a,b : a*b, lcmFactorList)}\")\n",
    "    \n",
    "hcfFunc1(22, 121)"
   ]
  },
  {
   "cell_type": "markdown",
   "id": "dabd8e46",
   "metadata": {},
   "source": [
    "#### Solution - 2 (More Feasible than previous one)"
   ]
  },
  {
   "cell_type": "code",
   "execution_count": 180,
   "id": "1d2839d3",
   "metadata": {},
   "outputs": [
    {
     "data": {
      "text/plain": [
       "11.0"
      ]
     },
     "execution_count": 180,
     "metadata": {},
     "output_type": "execute_result"
    }
   ],
   "source": [
    "def hcfFunc2(A,B):\n",
    "    return (A*B)/lcmFunc2(A,B)\n",
    "\n",
    "hcfFunc2(22,121)"
   ]
  },
  {
   "cell_type": "markdown",
   "id": "dc0cc829",
   "metadata": {},
   "source": [
    "#### Solution - 3 (Most Feasible):"
   ]
  },
  {
   "cell_type": "code",
   "execution_count": 188,
   "id": "aefef624",
   "metadata": {},
   "outputs": [
    {
     "name": "stdout",
     "output_type": "stream",
     "text": [
      "HCF of 12 and 144 is 6\n"
     ]
    }
   ],
   "source": [
    "def hcfFunc3(A,B):\n",
    "    minVal = min(A,B)\n",
    "    \n",
    "    hcf = 1\n",
    "    for i in range(1,minVal):\n",
    "        if A%i == 0 and B%i == 0:\n",
    "            hcf = i\n",
    "\n",
    "    return hcf\n",
    "\n",
    "print(f\"HCF of 12 and 144 is {hcfFunc3(12,144)}\")"
   ]
  },
  {
   "cell_type": "markdown",
   "id": "10886318",
   "metadata": {},
   "source": [
    "<hr>Q3. Write a Python Program to Convert Decimal to Binary, Octal and Hexadecimal?\n",
    "\n",
    "Solution:"
   ]
  },
  {
   "cell_type": "code",
   "execution_count": 185,
   "id": "1fd4ef70",
   "metadata": {},
   "outputs": [
    {
     "name": "stdout",
     "output_type": "stream",
     "text": [
      "Enter the Number : 41\n",
      "\n",
      "Binary Value : 101001\n",
      "Octal Value : 51\n",
      "Hexadecimal Value : 29\n"
     ]
    }
   ],
   "source": [
    "a = int(input(\"Enter the Number : \").strip())\n",
    "print()\n",
    "def decToOther(a):\n",
    "    print(f\"Binary Value : {bin(a)[2:]}\")\n",
    "    print(f\"Octal Value : {oct(a)[2:]}\")\n",
    "    print(f\"Hexadecimal Value : {hex(a)[2:]}\")\n",
    "    \n",
    "decToOther(a)"
   ]
  },
  {
   "cell_type": "markdown",
   "id": "a23cbbb1",
   "metadata": {},
   "source": [
    "<hr>Q4. Write a Python Program To Find ASCII value of a character?\n",
    "\n",
    "Solution:"
   ]
  },
  {
   "cell_type": "code",
   "execution_count": 187,
   "id": "6e00947d",
   "metadata": {},
   "outputs": [
    {
     "name": "stdout",
     "output_type": "stream",
     "text": [
      "Enter the character : A\n",
      "Ascii Value of A is 65\n"
     ]
    }
   ],
   "source": [
    "char1 = input(\"Enter the character : \").strip()[0]\n",
    "\n",
    "def asciiVal(char1):\n",
    "    print(f\"Ascii Value of {char1} is {ord(char1)}\")\n",
    "    \n",
    "asciiVal(char1)"
   ]
  },
  {
   "cell_type": "markdown",
   "id": "aad7ba88",
   "metadata": {},
   "source": [
    "<hr>Q5. Write a Python Program to Make a Simple Calculator with 4 basic mathematical operations?\n",
    "\n",
    "Solution:"
   ]
  },
  {
   "cell_type": "code",
   "execution_count": 95,
   "id": "ba91c173",
   "metadata": {},
   "outputs": [
    {
     "name": "stdout",
     "output_type": "stream",
     "text": [
      "Enter two numbers with space in between : 0 4\n",
      "\n",
      "Press + for Addition\n",
      "Press - for Substraction\n",
      "Press * for Multiplication\n",
      "Press / for Division\n",
      "Please Select Operation from above listed operators-\n",
      "Substraction of 0 and 4 is -4\n"
     ]
    }
   ],
   "source": [
    "def calc():\n",
    "    while(True):\n",
    "        lst = input(\"Enter two numbers with space in between : \").strip().split()\n",
    "        if len(lst) == 2:\n",
    "            num1, num2 = int(lst[0]),int(lst[1])\n",
    "            break\n",
    "        else:\n",
    "            print(\"\\nWarning : Enter Valid Input (Two Numbers with one space in between)\")\n",
    "    \n",
    "    print(\"\\nPress + for Addition\")\n",
    "    print(\"Press - for Substraction\")\n",
    "    print(\"Press * for Multiplication\")\n",
    "    print(\"Press / for Division\")\n",
    "    operationLst = [\"+\", \"-\", \"*\", \"/\"]\n",
    "                    \n",
    "    operation = input(\"Please Select Operation from above listed operators\")\n",
    "    if operation in operationLst:\n",
    "        if operation == \"+\":\n",
    "            print(f\"Addition of {num1} and {num2} is {num1+num2}\")\n",
    "        elif operation == \"-\":\n",
    "            print(f\"Substraction of {num1} and {num2} is {num1-num2}\")\n",
    "        elif operation == \"*\":\n",
    "            print(f\"Multiplication of {num1} and {num2} is {num1*num2}\")\n",
    "        elif operation == \"/\":\n",
    "            if num2 != 0:\n",
    "                print(f\"Division of {num1} and {num2} is {num1/num2}\")\n",
    "            else:\n",
    "                print(\"Error : Number cannot be divided by Zero, Please enter valid input\")\n",
    "    else:\n",
    "        print(\"Enter Valid Input\")\n",
    "            \n",
    "        \n",
    "calc()"
   ]
  }
 ],
 "metadata": {
  "kernelspec": {
   "display_name": "Python 3 (ipykernel)",
   "language": "python",
   "name": "python3"
  },
  "language_info": {
   "codemirror_mode": {
    "name": "ipython",
    "version": 3
   },
   "file_extension": ".py",
   "mimetype": "text/x-python",
   "name": "python",
   "nbconvert_exporter": "python",
   "pygments_lexer": "ipython3",
   "version": "3.9.7"
  }
 },
 "nbformat": 4,
 "nbformat_minor": 5
}

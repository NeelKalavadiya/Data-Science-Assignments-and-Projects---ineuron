{
 "cells": [
  {
   "cell_type": "markdown",
   "id": "595b68b1",
   "metadata": {},
   "source": [
    "# Python - Programming Assignment 4 \n",
    "### Author : Neelkumar Kalavadiya\n",
    "### Submission Date : 23/05/2022, Monday"
   ]
  },
  {
   "cell_type": "markdown",
   "id": "a77b63e1",
   "metadata": {},
   "source": [
    "<hr>Q1. Write a Python Program to Find the Factorial of a Number?\n",
    "\n",
    "Solution:"
   ]
  },
  {
   "cell_type": "markdown",
   "id": "1dc9352f",
   "metadata": {},
   "source": [
    "#### Solution - 1 :  Using Loop"
   ]
  },
  {
   "cell_type": "code",
   "execution_count": 34,
   "id": "e4628139",
   "metadata": {},
   "outputs": [
    {
     "name": "stdout",
     "output_type": "stream",
     "text": [
      "Enter the Number : 6\n",
      "Factorial of 6 is 720\n"
     ]
    }
   ],
   "source": [
    "num1 = int(input(\"Enter the Number : \").strip())\n",
    "\n",
    "factorial = 1\n",
    "if num1 < 0:\n",
    "    print(\"Enter positive Number\")\n",
    "elif num1 == 0:\n",
    "    print(\"Factorial of 0 is 1\")\n",
    "else:\n",
    "    for i in range(1, num1+1):\n",
    "        factorial = factorial * i\n",
    "    print(f\"Factorial of {num1} is {factorial}\")\n",
    "    "
   ]
  },
  {
   "cell_type": "markdown",
   "id": "28361ada",
   "metadata": {},
   "source": [
    "#### Solution - 2 :  Using Recursion"
   ]
  },
  {
   "cell_type": "code",
   "execution_count": 16,
   "id": "cddb3b27",
   "metadata": {},
   "outputs": [
    {
     "name": "stdout",
     "output_type": "stream",
     "text": [
      "Enter the number : 7\n",
      "Factorial of 7 is 5040\n"
     ]
    }
   ],
   "source": [
    "num2 = int(input(\"Enter the number : \"))\n",
    "def factUsingRecursion(number):\n",
    "    if number == 0:\n",
    "        return 1\n",
    "    else:\n",
    "        return number*factUsingRecursion(number-1)\n",
    "    \n",
    "    \n",
    "print(f\"Factorial of {num2} is {factUsingRecursion(num2)}\")"
   ]
  },
  {
   "cell_type": "markdown",
   "id": "72603582",
   "metadata": {},
   "source": [
    "<hr>Q2. Write a Python Program to Display the multiplication Table?\n",
    "\n",
    "Solution:"
   ]
  },
  {
   "cell_type": "code",
   "execution_count": 59,
   "id": "c7b4f28f",
   "metadata": {},
   "outputs": [
    {
     "name": "stdout",
     "output_type": "stream",
     "text": [
      "Enter the Number of which Table you want to display : 17\n",
      "17 x 1 = 17\n",
      "17 x 2 = 34\n",
      "17 x 3 = 51\n",
      "17 x 4 = 68\n",
      "17 x 5 = 85\n",
      "17 x 6 = 102\n",
      "17 x 7 = 119\n",
      "17 x 8 = 136\n",
      "17 x 9 = 153\n",
      "17 x 10 = 170\n"
     ]
    }
   ],
   "source": [
    "num3 = int(input(\"Enter the Number of which Table you want to display : \").strip())\n",
    "\n",
    "for i in range(1,11):\n",
    "    print(f\"{num3} x {i} = {num3*i}\")"
   ]
  },
  {
   "cell_type": "markdown",
   "id": "3f7e972a",
   "metadata": {},
   "source": [
    "<hr>Q3. Write a Python Program to Print the Fibonacci sequence?\n",
    "\n",
    "Solution:"
   ]
  },
  {
   "cell_type": "code",
   "execution_count": 47,
   "id": "e9a4816e",
   "metadata": {},
   "outputs": [
    {
     "name": "stdout",
     "output_type": "stream",
     "text": [
      "Enter the number of Terms you want in Fibbonacci sequence : 20\n",
      "\n",
      "\n",
      "0, 1, 1, 2, 3, 5, 8, 13, 21, 34, 55, 89, 144, 233, 377, 610, 987, 1597, 2584, 4181\n"
     ]
    }
   ],
   "source": [
    "num4 = int(input(\"Enter the number of Terms you want in Fibbonacci sequence : \").strip())\n",
    "print(\"\\n\")\n",
    "def fibboSeq(num4):\n",
    "    lst = []\n",
    "    if num4 == 0:\n",
    "        return 0\n",
    "    elif num4 == 1:\n",
    "        return 1\n",
    "    else:\n",
    "        return fibboSeq(num4-1) + fibboSeq(num4-2)\n",
    "    \n",
    "\n",
    "f = fibboSeq(num4)\n",
    "for i in range(num4):\n",
    "    print(fibboSeq(i), end=\", \")\n",
    "print(\"\\b\\b\")\n"
   ]
  },
  {
   "cell_type": "markdown",
   "id": "7fa2a517",
   "metadata": {},
   "source": [
    "##### <hr>Q4. Write a Python Program to Check Armstrong Number?\n",
    "\n",
    "Solution:"
   ]
  },
  {
   "cell_type": "code",
   "execution_count": 12,
   "id": "67bb37af",
   "metadata": {},
   "outputs": [
    {
     "name": "stdout",
     "output_type": "stream",
     "text": [
      "Enter the Number to check whether it is armstrong or not : 370\n",
      "370 is a Armstrong Number\n"
     ]
    }
   ],
   "source": [
    "num5 = input(\"Enter the Number to check whether it is armstrong or not : \").strip()\n",
    "\n",
    "def armstrongNumber(num5):\n",
    "    power = len(num5)\n",
    "    Sum = 0\n",
    "    for i in range(len(num5)):\n",
    "        Sum = Sum + (int(num5[i])**power)\n",
    "        \n",
    "    if Sum == int(num5):\n",
    "        print(f\"{num5} is a Armstrong Number\")\n",
    "    else:\n",
    "        print(f\"{num5} is not a Armstrong Number\")\n",
    "\n",
    "armstrongNumber(num5)"
   ]
  },
  {
   "cell_type": "markdown",
   "id": "0c6a43d3",
   "metadata": {},
   "source": [
    "<hr>Q5. Write a Python Program to Find Armstrong Number in an Interval?\n",
    "\n",
    "Solution:"
   ]
  },
  {
   "cell_type": "code",
   "execution_count": 44,
   "id": "d0b20e2f",
   "metadata": {},
   "outputs": [
    {
     "name": "stdout",
     "output_type": "stream",
     "text": [
      "Enter the start of the interval : 1\n",
      "Enter the end of the interval : 100000\n",
      "\n",
      "\n",
      "1, 2, 3, 4, 5, 6, 7, 8, 9, 153, 370, 371, 407, 1634, 8208, 9474, 54748, 92727, 93084\n"
     ]
    }
   ],
   "source": [
    "intervalStart = int(input(\"Enter the start of the interval : \").strip())\n",
    "intervalEnd = int(input(\"Enter the end of the interval : \").strip())\n",
    "print(\"\\n\")\n",
    "def totalArmstrongNumber(start,end):\n",
    "    \n",
    "    for i in range(start,end+1):\n",
    "        if len(str(i)) == 1:\n",
    "            print(i,end=\", \")\n",
    "        else:\n",
    "            power = len(str(i))\n",
    "            Sum = 0\n",
    "            testStrNumber = str(i)\n",
    "            for j in range(len(str(i))):\n",
    "                Sum = Sum + (int(testStrNumber[j])**power)\n",
    "            if Sum == i:\n",
    "                print(i, end=\", \")\n",
    "    print(\"\\b\\b\")\n",
    "        \n",
    "totalArmstrongNumber(intervalStart,intervalEnd)"
   ]
  },
  {
   "cell_type": "markdown",
   "id": "15c5fd86",
   "metadata": {},
   "source": [
    "<hr>Q6. Write a Python Program to Find the Sum of Natural Numbers?\n",
    "\n",
    "Solution:"
   ]
  },
  {
   "cell_type": "code",
   "execution_count": 15,
   "id": "b92705c1",
   "metadata": {},
   "outputs": [
    {
     "name": "stdout",
     "output_type": "stream",
     "text": [
      "Enter the Number : 100\n",
      "5050.0\n"
     ]
    }
   ],
   "source": [
    "nNatural = int(input(\"Enter the Number : \").strip())\n",
    "def sumOfNaturalNumbers(n):\n",
    "    return (n*(n+1))/2\n",
    "    \n",
    "print(sumOfNaturalNumbers(nNatural))"
   ]
  }
 ],
 "metadata": {
  "kernelspec": {
   "display_name": "Python 3 (ipykernel)",
   "language": "python",
   "name": "python3"
  },
  "language_info": {
   "codemirror_mode": {
    "name": "ipython",
    "version": 3
   },
   "file_extension": ".py",
   "mimetype": "text/x-python",
   "name": "python",
   "nbconvert_exporter": "python",
   "pygments_lexer": "ipython3",
   "version": "3.9.7"
  }
 },
 "nbformat": 4,
 "nbformat_minor": 5
}

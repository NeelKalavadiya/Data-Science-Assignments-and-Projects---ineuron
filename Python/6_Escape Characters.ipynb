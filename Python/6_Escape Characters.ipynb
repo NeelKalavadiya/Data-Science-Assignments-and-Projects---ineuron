{
 "cells": [
  {
   "cell_type": "markdown",
   "id": "98798698",
   "metadata": {},
   "source": [
    "# Assignment_6 - Escape Characters\n",
    "### Author : Neelkumar Kalavadiya\n",
    "### Submission Date : 28/05/2022, Saturday"
   ]
  },
  {
   "cell_type": "markdown",
   "id": "32ecab85",
   "metadata": {},
   "source": [
    "<hr>Q1. What are escape characters, and how do you use them?\n",
    "\n",
    "<b>Solution:"
   ]
  },
  {
   "cell_type": "markdown",
   "id": "277d9729",
   "metadata": {},
   "source": [
    "* They are the characters which are used to represent symbols, characters or whitespaces which are not allowed by a string by default.\n",
    "* They can be using inside the string by typing \"\\\\\" and then the alphabet or a special character.\n",
    "\n",
    "for example : \"\\\\\\\\\", \"\\n\", \"\\t\" etc...."
   ]
  },
  {
   "cell_type": "markdown",
   "id": "46cef537",
   "metadata": {},
   "source": [
    "<hr>Q2. What do the escape characters n and t stand for?\n",
    "\n",
    "<b>Solution:"
   ]
  },
  {
   "cell_type": "markdown",
   "id": "0235b578",
   "metadata": {},
   "source": [
    "* \\n : It inserts a new line in the string wherever it is mentioned in the string.\n",
    "* \\t : It inserts a tab (3 spaces) wherever it is in the string."
   ]
  },
  {
   "cell_type": "code",
   "execution_count": 54,
   "id": "dd876c59",
   "metadata": {},
   "outputs": [
    {
     "name": "stdout",
     "output_type": "stream",
     "text": [
      "My name is Neel and\n",
      "My mother's Name is Rekhaben\n",
      "And\tmy father's Name is Prakashbhai\n"
     ]
    }
   ],
   "source": [
    "print(\"My name is Neel and\\nMy mother's Name is Rekhaben\")\n",
    "print(\"And\\tmy father's Name is Prakashbhai\")"
   ]
  },
  {
   "cell_type": "markdown",
   "id": "32c9ace7",
   "metadata": {},
   "source": [
    "<hr>Q3. What is the way to include backslash characters in a string?\n",
    "\n",
    "<b>Solution:"
   ]
  },
  {
   "cell_type": "markdown",
   "id": "bd99f498",
   "metadata": {},
   "source": [
    "* We can inlcude backslash characters anywhere inside a string i.e double or single quotes and we can type backward slash followed by backslash character"
   ]
  },
  {
   "cell_type": "markdown",
   "id": "92de8671",
   "metadata": {},
   "source": [
    "<hr>Q4. The string &quot;Howl&#39;s Moving Castle&quot; is a correct value. Why isn&#39;t the single quote character in the\n",
    "word Howl&#39;s not escaped a problem?\n",
    "\n",
    "<b>Solution:"
   ]
  },
  {
   "cell_type": "markdown",
   "id": "1296d9e3",
   "metadata": {},
   "source": [
    "* Below example is correctly written even if the single quote is not escaped because whole string is surrounded by double quotes (\" \") so single quote will not create any error and printed as expected."
   ]
  },
  {
   "cell_type": "code",
   "execution_count": 4,
   "id": "16e4173c",
   "metadata": {},
   "outputs": [
    {
     "data": {
      "text/plain": [
       "\"Howl's Moving Castle\""
      ]
     },
     "execution_count": 4,
     "metadata": {},
     "output_type": "execute_result"
    }
   ],
   "source": [
    "\"Howl's Moving Castle\" "
   ]
  },
  {
   "cell_type": "code",
   "execution_count": 13,
   "id": "4502b77c",
   "metadata": {},
   "outputs": [
    {
     "name": "stdout",
     "output_type": "stream",
     "text": [
      "Howl's Moving Castle\n",
      "Hello\n"
     ]
    }
   ],
   "source": [
    "print('Howl\\'s Moving Castle')\n",
    "print(\"Hello\")\n",
    "# print('Howl's Moving Castle')"
   ]
  },
  {
   "cell_type": "markdown",
   "id": "770de1e4",
   "metadata": {},
   "source": [
    "<hr>Q5. How do you write a string of newlines if you don&#39;t want to use the n character?\n",
    "\n",
    "<b>Solution:"
   ]
  },
  {
   "cell_type": "markdown",
   "id": "506d4d8d",
   "metadata": {},
   "source": [
    "* We will use print() statement itself because \"end\" param of print statement is by default new line character"
   ]
  },
  {
   "cell_type": "code",
   "execution_count": 52,
   "id": "a6a94492",
   "metadata": {},
   "outputs": [
    {
     "name": "stdout",
     "output_type": "stream",
     "text": [
      "Hello I am first Line\n",
      "\n",
      "\n",
      "\n",
      "\n",
      "\n",
      "\n",
      "\n",
      "\n",
      "\n",
      "\n",
      "\n",
      "Hello I am Last Line\n"
     ]
    }
   ],
   "source": [
    "print(\"Hello I am first Line\")\n",
    "print() \n",
    "print()\n",
    "print()\n",
    "print()\n",
    "print()\n",
    "print()\n",
    "print()\n",
    "print()\n",
    "print()\n",
    "print()\n",
    "print()\n",
    "print(\"Hello I am Last Line\")"
   ]
  },
  {
   "cell_type": "markdown",
   "id": "57f4371b",
   "metadata": {},
   "source": [
    "<hr>Q6. What are the values of the given expressions?\n",
    "<br> &#39;Hello, world!&#39;[1]\n",
    "<br> &#39;Hello, world!&#39;[0:5]\n",
    "<br> &#39;Hello, world!&#39;[:5]\n",
    "<br> &#39;Hello, world!&#39;[3:]\n",
    "\n",
    "\n",
    "<b>Solution:"
   ]
  },
  {
   "cell_type": "code",
   "execution_count": 21,
   "id": "548df520",
   "metadata": {},
   "outputs": [
    {
     "data": {
      "text/plain": [
       "'e'"
      ]
     },
     "execution_count": 21,
     "metadata": {},
     "output_type": "execute_result"
    }
   ],
   "source": [
    "'Hello, world!'[1]"
   ]
  },
  {
   "cell_type": "code",
   "execution_count": 22,
   "id": "fed4e7bf",
   "metadata": {},
   "outputs": [
    {
     "data": {
      "text/plain": [
       "'Hello'"
      ]
     },
     "execution_count": 22,
     "metadata": {},
     "output_type": "execute_result"
    }
   ],
   "source": [
    "'Hello, world!'[0:5]"
   ]
  },
  {
   "cell_type": "code",
   "execution_count": 23,
   "id": "f076c56d",
   "metadata": {},
   "outputs": [
    {
     "data": {
      "text/plain": [
       "'Hello'"
      ]
     },
     "execution_count": 23,
     "metadata": {},
     "output_type": "execute_result"
    }
   ],
   "source": [
    "'Hello, world!'[:5]"
   ]
  },
  {
   "cell_type": "code",
   "execution_count": 24,
   "id": "19a9d31a",
   "metadata": {},
   "outputs": [
    {
     "data": {
      "text/plain": [
       "'lo, world!'"
      ]
     },
     "execution_count": 24,
     "metadata": {},
     "output_type": "execute_result"
    }
   ],
   "source": [
    "'Hello, world!'[3:]"
   ]
  },
  {
   "cell_type": "markdown",
   "id": "2b0ca7b2",
   "metadata": {},
   "source": [
    "<hr>Q7. What are the values of the following expressions?\n",
    "<br> &#39;Hello&#39;.upper()\n",
    "<br> &#39;Hello&#39;.upper().isupper()\n",
    "<br> &#39;Hello&#39;.upper().lower()\n",
    "\n",
    "<b>Solution:"
   ]
  },
  {
   "cell_type": "markdown",
   "id": "f91c154d",
   "metadata": {},
   "source": [
    "* It will make the whole string in uppercase alphabets"
   ]
  },
  {
   "cell_type": "code",
   "execution_count": 25,
   "id": "27b23776",
   "metadata": {},
   "outputs": [
    {
     "data": {
      "text/plain": [
       "'HELLO'"
      ]
     },
     "execution_count": 25,
     "metadata": {},
     "output_type": "execute_result"
    }
   ],
   "source": [
    "'Hello'.upper()"
   ]
  },
  {
   "cell_type": "markdown",
   "id": "4b90fdfd",
   "metadata": {},
   "source": [
    "* It will first make whole string in uppercase alphabets and then isupper() function will check whether the string is in uppercase or not and returns boolean value accordingly."
   ]
  },
  {
   "cell_type": "code",
   "execution_count": 26,
   "id": "b186da28",
   "metadata": {},
   "outputs": [
    {
     "data": {
      "text/plain": [
       "True"
      ]
     },
     "execution_count": 26,
     "metadata": {},
     "output_type": "execute_result"
    }
   ],
   "source": [
    "'Hello'.upper().isupper()"
   ]
  },
  {
   "cell_type": "markdown",
   "id": "f9bb236f",
   "metadata": {},
   "source": [
    "* It will first make the string in upper case and then into lowercase."
   ]
  },
  {
   "cell_type": "code",
   "execution_count": 27,
   "id": "a1ecdc23",
   "metadata": {},
   "outputs": [
    {
     "data": {
      "text/plain": [
       "'hello'"
      ]
     },
     "execution_count": 27,
     "metadata": {},
     "output_type": "execute_result"
    }
   ],
   "source": [
    "'Hello'.upper().lower()"
   ]
  },
  {
   "cell_type": "markdown",
   "id": "e152d6cf",
   "metadata": {},
   "source": [
    "<hr>Q8. What are the values of the following expressions?\n",
    "<br> &#39;Remember, remember, the fifth of July.&#39;.split()\n",
    "<br> &#39;-&#39;.join(&#39;There can only one.&#39;.split())\n",
    "\n",
    "<b>Solution:"
   ]
  },
  {
   "cell_type": "markdown",
   "id": "04b4fef7",
   "metadata": {},
   "source": [
    "* Below split() method will split the whole string whith space as delimiter and put them into a list"
   ]
  },
  {
   "cell_type": "code",
   "execution_count": 28,
   "id": "ed93f69f",
   "metadata": {},
   "outputs": [
    {
     "data": {
      "text/plain": [
       "['Remember,', 'remember,', 'the', 'fifth', 'of', 'July.']"
      ]
     },
     "execution_count": 28,
     "metadata": {},
     "output_type": "execute_result"
    }
   ],
   "source": [
    "'Remember, remember, the fifth of July.'.split()"
   ]
  },
  {
   "cell_type": "markdown",
   "id": "c56e3dfd",
   "metadata": {},
   "source": [
    "* Below 'character'.join() method joins the whole collection having string datatype items(list, tuples etc) or a string with a character in between whichever is mentioned before the join() mthod"
   ]
  },
  {
   "cell_type": "code",
   "execution_count": 51,
   "id": "edd56910",
   "metadata": {},
   "outputs": [
    {
     "data": {
      "text/plain": [
       "'There-can-only-one.'"
      ]
     },
     "execution_count": 51,
     "metadata": {},
     "output_type": "execute_result"
    }
   ],
   "source": [
    "'-'.join('There can only one.'.split())"
   ]
  },
  {
   "cell_type": "markdown",
   "id": "15296e75",
   "metadata": {},
   "source": [
    "<hr>Q9. What are the methods for right-justifying, left-justifying, and centering a string?\n",
    "\n",
    "<b>Solution:"
   ]
  },
  {
   "cell_type": "code",
   "execution_count": 47,
   "id": "e7a74d5c",
   "metadata": {},
   "outputs": [
    {
     "name": "stdout",
     "output_type": "stream",
     "text": [
      "___________________________I want to right justify\n",
      "I want to left justify____________________________\n",
      "_____________I want to center justify_____________\n"
     ]
    }
   ],
   "source": [
    "str1 = \"I want to right justify\"\n",
    "str2 = \"I want to left justify\"\n",
    "str3 = \"I want to center justify\"\n",
    "\n",
    "print(str1.rjust(50,'_'))\n",
    "print(str2.ljust(50,'_'))\n",
    "print(str3.center(50,'_'))"
   ]
  },
  {
   "cell_type": "markdown",
   "id": "c1da6a1c",
   "metadata": {},
   "source": [
    "<hr>Q10. What is the best way to remove whitespace characters from the start or end?\n",
    "\n",
    "<b>Solution:"
   ]
  },
  {
   "cell_type": "code",
   "execution_count": 32,
   "id": "2e944547",
   "metadata": {},
   "outputs": [
    {
     "name": "stdout",
     "output_type": "stream",
     "text": [
      "              I have white space at both the ends                                     \n",
      "I have white space at both the ends\n"
     ]
    }
   ],
   "source": [
    "str2 = \"              I have white space at both the ends                                     \"\n",
    "\n",
    "print(str2)\n",
    "print(str2.strip())"
   ]
  }
 ],
 "metadata": {
  "kernelspec": {
   "display_name": "Python 3 (ipykernel)",
   "language": "python",
   "name": "python3"
  },
  "language_info": {
   "codemirror_mode": {
    "name": "ipython",
    "version": 3
   },
   "file_extension": ".py",
   "mimetype": "text/x-python",
   "name": "python",
   "nbconvert_exporter": "python",
   "pygments_lexer": "ipython3",
   "version": "3.9.7"
  }
 },
 "nbformat": 4,
 "nbformat_minor": 5
}

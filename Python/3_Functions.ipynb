{
 "cells": [
  {
   "cell_type": "markdown",
   "id": "45d4b508",
   "metadata": {},
   "source": [
    "# Assignment_3 - Functions\n",
    "### Author : Neelkumar Kalavadiya\n",
    "### Submission Date :  25/05/2022, Wednesday"
   ]
  },
  {
   "cell_type": "markdown",
   "id": "93b020bb",
   "metadata": {},
   "source": [
    "<hr>Q1. Why are functions advantageous to have in your programs?\n",
    "\n",
    "<b> Solution:"
   ]
  },
  {
   "cell_type": "markdown",
   "id": "874be131",
   "metadata": {},
   "source": [
    "* It helps to use concepts like DRY (Do not repeat yourself), Code Reusability as well as OOPS concepts like Abstraction(Data Hiding) in your programming. \n",
    "* For example we have some repeatitive task to do, so we will not write that code everytime we need that task to happen. We will just create a function for it and will call it wherever needed in the entire code or a project.\n",
    "* It also helps to decompose complex problems into simple pieces."
   ]
  },
  {
   "cell_type": "markdown",
   "id": "42bba6b6",
   "metadata": {},
   "source": [
    "<hr>Q2. When does the code in a function run: when it&#39;s specified or when it&#39;s called?\n",
    "\n",
    "<b> Solution:\n",
    "    "
   ]
  },
  {
   "cell_type": "markdown",
   "id": "bd3c7685",
   "metadata": {},
   "source": [
    "* Code inside function will run whenever it is called and not run when it is defined."
   ]
  },
  {
   "cell_type": "markdown",
   "id": "fc973205",
   "metadata": {},
   "source": [
    "<hr>Q3. What statement creates a function?\n",
    "\n",
    "\n",
    "<b> Solution:\n",
    "    \n",
    "* def functionName() :"
   ]
  },
  {
   "cell_type": "code",
   "execution_count": 6,
   "id": "76dbf41f",
   "metadata": {},
   "outputs": [
    {
     "name": "stdout",
     "output_type": "stream",
     "text": [
      "Hello Python\n"
     ]
    }
   ],
   "source": [
    "def func1():\n",
    "    print(\"Hello Python\")\n",
    "    \n",
    "func1()"
   ]
  },
  {
   "cell_type": "markdown",
   "id": "c599b72a",
   "metadata": {},
   "source": [
    "<hr>Q4. What is the difference between a function and a function call?\n",
    "\n",
    "\n",
    "<b> Solution:\n",
    "    \n",
    "* function : Function is the declaration and implementation of whole code of the function.\n",
    "* function call : Function Call is the statement which calls the function and execute it and return appropriate value according to function implementation.<br><br>\n",
    "    \n",
    "Both is explained by example given below"
   ]
  },
  {
   "cell_type": "code",
   "execution_count": 7,
   "id": "9994d74e",
   "metadata": {},
   "outputs": [
    {
     "name": "stdout",
     "output_type": "stream",
     "text": [
      "Hello Python\n"
     ]
    }
   ],
   "source": [
    "def func1():                     # This two lines of code block is considered as function\n",
    "    print(\"Hello Python\")\n",
    "    \n",
    "func1()                          # This line of code is the function call which calls the func1 from above func1() implementation"
   ]
  },
  {
   "cell_type": "markdown",
   "id": "479a005a",
   "metadata": {},
   "source": [
    "<hr>Q5. How many global scopes are there in a Python program? How many local scopes?\n",
    "\n",
    "\n",
    "<b> Solution:"
   ]
  },
  {
   "cell_type": "markdown",
   "id": "9ef7c369",
   "metadata": {},
   "source": [
    "* There is 1 global scope whenever we start writing a python program.\n",
    "\n",
    "* But there can be multiple local scopes based on number of code blocks or functions are created and called."
   ]
  },
  {
   "cell_type": "markdown",
   "id": "dd59049b",
   "metadata": {},
   "source": [
    "<hr>Q6. What happens to variables in a local scope when the function call returns?\n",
    "\n",
    "\n",
    "<b> Solution:"
   ]
  },
  {
   "cell_type": "markdown",
   "id": "909fc907",
   "metadata": {},
   "source": [
    "* As soon as function call returns back to the flow of code all the memory taken by local scope variables get destroyed and again become free and that variables could not be accessed anymore unless you call that function again."
   ]
  },
  {
   "cell_type": "markdown",
   "id": "1139beb2",
   "metadata": {},
   "source": [
    "<hr>Q7. What is the concept of a return value? Is it possible to have a return value in an expression?\n",
    "\n",
    "\n",
    "<b> Solution:"
   ]
  },
  {
   "cell_type": "markdown",
   "id": "a8d7984e",
   "metadata": {},
   "source": [
    "* return value is the value which is returned by a function after executing and evaluating all the code lines written inside it. For example we can return integer, string, object, boolean etc any type of data we want a function to return"
   ]
  },
  {
   "cell_type": "markdown",
   "id": "ea05a97f",
   "metadata": {},
   "source": [
    "<hr>Q8. If a function does not have a return statement, what is the return value of a call to that function?\n",
    "\n",
    "\n",
    "<b> Solution:"
   ]
  },
  {
   "cell_type": "markdown",
   "id": "91090b4c",
   "metadata": {},
   "source": [
    "* If a function does not have a return statement then default return value of a function is    <span style=\"color:Green\"><b> None </b></span>    as shown in below code snippet."
   ]
  },
  {
   "cell_type": "code",
   "execution_count": 4,
   "id": "788c7757",
   "metadata": {},
   "outputs": [
    {
     "name": "stdout",
     "output_type": "stream",
     "text": [
      "Hello\n",
      "None\n"
     ]
    }
   ],
   "source": [
    "def funcPrint():\n",
    "    print(\"Hello\")\n",
    "    return\n",
    "None\n",
    "print(funcPrint())"
   ]
  },
  {
   "cell_type": "markdown",
   "id": "e31f69b4",
   "metadata": {},
   "source": [
    "<hr>Q9. How do you make a function variable refer to the global variable?\n",
    "\n",
    "\n",
    "<b> Solution:"
   ]
  },
  {
   "cell_type": "code",
   "execution_count": 10,
   "id": "b2ebc5bd",
   "metadata": {},
   "outputs": [
    {
     "name": "stdout",
     "output_type": "stream",
     "text": [
      "I am Global Variable outside function and is in global scope\n",
      "I was global variable but changed inside func_9() using global keyword\n"
     ]
    }
   ],
   "source": [
    "gloVar = \"I am Global Variable outside function and is in global scope\"\n",
    "\n",
    "def func_9():\n",
    "    global gloVar\n",
    "    gloVar = \"I was global variable but changed inside func_9() using global keyword\"\n",
    "    \n",
    "    \n",
    "print(gloVar)\n",
    "func_9()\n",
    "print(gloVar)\n",
    "    "
   ]
  },
  {
   "cell_type": "markdown",
   "id": "b3f84eac",
   "metadata": {},
   "source": [
    "<hr>Q10. What is the data type of None?\n",
    "\n",
    "\n",
    "<b> Solution:\n",
    "* NoneType    "
   ]
  },
  {
   "cell_type": "markdown",
   "id": "a78c078c",
   "metadata": {},
   "source": [
    "<hr>Q11. What does the sentence import areallyourpetsnamederic do?\n",
    "\n",
    "\n",
    "<b> Solution:"
   ]
  },
  {
   "cell_type": "markdown",
   "id": "637ddece",
   "metadata": {},
   "source": [
    "* This sentence imports the module whose name is areallyourpetsnamederic"
   ]
  },
  {
   "cell_type": "markdown",
   "id": "f9b1b449",
   "metadata": {},
   "source": [
    "<hr>Q12. If you had a bacon() feature in a spam module, what would you call it after importing spam?\n",
    "\n",
    "\n",
    "<b> Solution:"
   ]
  },
  {
   "cell_type": "code",
   "execution_count": null,
   "id": "845b411a",
   "metadata": {},
   "outputs": [],
   "source": [
    "import spam  #statement importing spam module\n",
    "\n",
    "spam.bacon()"
   ]
  },
  {
   "cell_type": "markdown",
   "id": "26c47587",
   "metadata": {},
   "source": [
    "<hr>Q13. What can you do to save a programme from crashing if it encounters an error?\n",
    "\n",
    "\n",
    "<b> Solution:"
   ]
  },
  {
   "cell_type": "markdown",
   "id": "a5dfb910",
   "metadata": {},
   "source": [
    "* We can make use of try catch block to avoid crashing of program"
   ]
  },
  {
   "cell_type": "markdown",
   "id": "21b29edd",
   "metadata": {},
   "source": [
    "<hr>Q14. What is the purpose of the try clause? What is the purpose of the except clause?\n",
    "\n",
    "<b> Solution:"
   ]
  },
  {
   "cell_type": "markdown",
   "id": "fe641470",
   "metadata": {},
   "source": [
    "* try clause purpose : It is used to check the particular code block which we think might give error due to some kind of input or in some test cases.\n",
    "\n",
    "* catch clause purpose : It is used immediately after try block and it got executed whenever code block in preceeding try block throws any error. catch blocks are used to print the cause of error in the try block code."
   ]
  },
  {
   "cell_type": "code",
   "execution_count": null,
   "id": "56fbe7b8",
   "metadata": {},
   "outputs": [],
   "source": []
  }
 ],
 "metadata": {
  "kernelspec": {
   "display_name": "Python 3 (ipykernel)",
   "language": "python",
   "name": "python3"
  },
  "language_info": {
   "codemirror_mode": {
    "name": "ipython",
    "version": 3
   },
   "file_extension": ".py",
   "mimetype": "text/x-python",
   "name": "python",
   "nbconvert_exporter": "python",
   "pygments_lexer": "ipython3",
   "version": "3.9.7"
  }
 },
 "nbformat": 4,
 "nbformat_minor": 5
}

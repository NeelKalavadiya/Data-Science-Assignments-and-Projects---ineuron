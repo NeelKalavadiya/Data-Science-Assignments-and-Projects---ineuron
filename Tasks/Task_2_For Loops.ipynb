{
 "cells": [
  {
   "cell_type": "code",
   "execution_count": null,
   "id": "f4441150",
   "metadata": {},
   "outputs": [],
   "source": [
    "before 29th may 2022 3 PM IST you have to send an answer to me or to shivan \n",
    "sudhanshu@ineuron.ai\n",
    "shivan@ineuron.ai"
   ]
  },
  {
   "cell_type": "markdown",
   "id": "9d5ac15c",
   "metadata": {},
   "source": [
    "Q1 :<br>\n",
    "ineruon<br> \n",
    "ineruon ineruon<br> \n",
    "ineruon ineruon ineruon<br>\n",
    "ineruon ineruon ineruon ineruon<br>\n",
    "\n",
    "<b>Solution:"
   ]
  },
  {
   "cell_type": "code",
   "execution_count": 1,
   "id": "715f734c",
   "metadata": {},
   "outputs": [
    {
     "name": "stdout",
     "output_type": "stream",
     "text": [
      "ineuron \n",
      "ineuron ineuron \n",
      "ineuron ineuron ineuron \n",
      "ineuron ineuron ineuron ineuron \n"
     ]
    }
   ],
   "source": [
    "for i in range(4):\n",
    "    for j in range(i+1):\n",
    "        print('ineuron',end=\" \")\n",
    "    print()"
   ]
  },
  {
   "cell_type": "markdown",
   "id": "b6543638",
   "metadata": {},
   "source": [
    "Q2:\n",
    "          ineruon\n",
    "    ineruon      ineruon\n",
    "ineruon\t\tineruon \tineruon\n",
    "\tineruon\t\t ineruon\n",
    "\t\t  ineruon\n",
    "          \n",
    "Solution:"
   ]
  },
  {
   "cell_type": "code",
   "execution_count": 170,
   "id": "eea2738b",
   "metadata": {},
   "outputs": [
    {
     "name": "stdout",
     "output_type": "stream",
     "text": [
      "            ineuron  \n",
      "        ineuron  ineuron  \n",
      "    ineuron  ineuron  ineuron  \n",
      "         ineuron ineuron \n",
      "            ineuron \n"
     ]
    }
   ],
   "source": [
    "for i in range(5):\n",
    "    if i<3:\n",
    "        for j in range(3,i,-1):\n",
    "            print(' '*4,end=\"\")\n",
    "        for j in range(0,i+1):\n",
    "            print('ineuron',end='  ')\n",
    "    else:\n",
    "        for j in range(0,i):\n",
    "            print(\"  \",end=\" \")\n",
    "        for j in range(5,i,-1):\n",
    "            print('ineuron',end=' ')\n",
    "    print()"
   ]
  },
  {
   "cell_type": "code",
   "execution_count": 216,
   "id": "290280e8",
   "metadata": {},
   "outputs": [],
   "source": [
    "l = [[1,2,3,4] , (2,3,4,5,6) , (3,4,5,6,7) , set([23,4,5,45,4,4,5,45,45,4,5]) , {'k1' :\"sudh\" , \"k2\" : \"ineuron\",\"k3\":\n",
    "            \"kumar\" , 3:6 , 7:8} , [\"ineuron\" , \"data science \"]]"
   ]
  },
  {
   "cell_type": "markdown",
   "id": "f21390da",
   "metadata": {},
   "source": [
    "<hr>Q3 : Try to extract all the list entity \n",
    "\n",
    "<b>Solution:"
   ]
  },
  {
   "cell_type": "code",
   "execution_count": 217,
   "id": "6da78b31",
   "metadata": {},
   "outputs": [
    {
     "name": "stdout",
     "output_type": "stream",
     "text": [
      "[1, 2, 3, 4]\n",
      "['ineuron', 'data science ']\n"
     ]
    }
   ],
   "source": [
    "for i in l:\n",
    "    if type(i) == list:\n",
    "        print(i)"
   ]
  },
  {
   "cell_type": "markdown",
   "id": "9663297e",
   "metadata": {},
   "source": [
    "<hr>Q4 : Try to extract all the dict enteties\n",
    "\n",
    "<b>Solution:"
   ]
  },
  {
   "cell_type": "code",
   "execution_count": 218,
   "id": "74f2bba8",
   "metadata": {},
   "outputs": [
    {
     "name": "stdout",
     "output_type": "stream",
     "text": [
      "{'k1': 'sudh', 'k2': 'ineuron', 'k3': 'kumar', 3: 6, 7: 8}\n"
     ]
    }
   ],
   "source": [
    "for i in l:\n",
    "    if type(i) == dict:\n",
    "        print(i)"
   ]
  },
  {
   "cell_type": "markdown",
   "id": "61a3b09b",
   "metadata": {},
   "source": [
    "<hr>Q5 : Try to extract all the tuples entities\n",
    "\n",
    "<b>Solution:"
   ]
  },
  {
   "cell_type": "code",
   "execution_count": 219,
   "id": "261fa91f",
   "metadata": {},
   "outputs": [
    {
     "name": "stdout",
     "output_type": "stream",
     "text": [
      "(2, 3, 4, 5, 6)\n",
      "(3, 4, 5, 6, 7)\n"
     ]
    }
   ],
   "source": [
    "for i in l:\n",
    "    if type(i) == tuple:\n",
    "        print(i)"
   ]
  },
  {
   "cell_type": "markdown",
   "id": "d0d12e68",
   "metadata": {},
   "source": [
    "<hr>Q6 : Try to extract all the numerical data it may b a part of dict key and values \n",
    "\n",
    "<b>Solution:"
   ]
  },
  {
   "cell_type": "code",
   "execution_count": 220,
   "id": "ff869503",
   "metadata": {},
   "outputs": [
    {
     "name": "stdout",
     "output_type": "stream",
     "text": [
      "Given List : \n",
      " [[1, 2, 3, 4], (2, 3, 4, 5, 6), (3, 4, 5, 6, 7), {45, 4, 5, 23}, {'k1': 'sudh', 'k2': 'ineuron', 'k3': 'kumar', 3: 6, 7: 8}, ['ineuron', 'data science ']]\n",
      "\n",
      "Total Numerical Data : [1, 2, 3, 4, 2, 3, 4, 5, 6, 3, 4, 5, 6, 7, 45, 4, 5, 23, 3, 6, 7, 8]\n"
     ]
    }
   ],
   "source": [
    "import functools\n",
    "\n",
    "lstInt = []\n",
    "for i in l:\n",
    "    if type(i) == int:\n",
    "#         print(i)\n",
    "        lstInt.append(i)\n",
    "    elif (type(i) == tuple) or (type(i) == list):\n",
    "        for j in i:\n",
    "            if type(j) == int:\n",
    "#                 print(i[j])\n",
    "                lstInt.append(j)\n",
    "    elif type(i) == dict:\n",
    "        for k,v in i.items():\n",
    "            if type(k) == int:\n",
    "#                 print(k)\n",
    "                lstInt.append(k)\n",
    "            if type(v) == int:\n",
    "#                 print(v)\n",
    "                lstInt.append(v)\n",
    "    elif type(i) == set:\n",
    "        for j in i:\n",
    "            if type(j) == int:\n",
    "#                 print(j)\n",
    "                lstInt.append(j)\n",
    "    \n",
    "    \n",
    "print(f\"Given List : \\n\",l)\n",
    "print()\n",
    "print(f\"Total Numerical Data : {lstInt}\")"
   ]
  },
  {
   "cell_type": "markdown",
   "id": "4dc83e79",
   "metadata": {},
   "source": [
    "<hr>Q7 : Try to give summation of all the numeric data \n",
    "\n",
    "<b> Solution:"
   ]
  },
  {
   "cell_type": "code",
   "execution_count": 221,
   "id": "09fb58b6",
   "metadata": {},
   "outputs": [
    {
     "name": "stdout",
     "output_type": "stream",
     "text": [
      "156\n"
     ]
    }
   ],
   "source": [
    "#lstInt list is from above question\n",
    "\n",
    "print(functools.reduce(lambda a,b : a+b, lstInt))"
   ]
  },
  {
   "cell_type": "markdown",
   "id": "50ff2483",
   "metadata": {},
   "source": [
    "<hr>Q8 : Try to filter out all the odd values out all numeric data which is a part of a list "
   ]
  },
  {
   "cell_type": "code",
   "execution_count": 222,
   "id": "ba01d99d",
   "metadata": {},
   "outputs": [
    {
     "name": "stdout",
     "output_type": "stream",
     "text": [
      "45\n"
     ]
    }
   ],
   "source": [
    "import functools\n",
    "maxDiff = 0\n",
    "maxDict = {}\n",
    "\n",
    "for i in lstInt:\n",
    "    avg = (functools.reduce(lambda a,b : a+b,lstInt))/len(lstInt)\n",
    "    if (abs(avg-i) > maxDiff) and (i not in maxDict.keys()):\n",
    "        maxDiff = abs(avg-i)\n",
    "        maxDict[i] = maxDiff\n",
    "        \n",
    "print(max(maxDict.keys()))"
   ]
  },
  {
   "cell_type": "markdown",
   "id": "a5d47739",
   "metadata": {},
   "source": [
    "<hr>Q9 : Try to extract \"ineruon\" out of this data"
   ]
  },
  {
   "cell_type": "code",
   "execution_count": 223,
   "id": "0ab19b00",
   "metadata": {},
   "outputs": [
    {
     "name": "stdout",
     "output_type": "stream",
     "text": [
      "Given List : \n",
      " [[1, 2, 3, 4], (2, 3, 4, 5, 6), (3, 4, 5, 6, 7), {45, 4, 5, 23}, {'k1': 'sudh', 'k2': 'ineuron', 'k3': 'kumar', 3: 6, 7: 8}, ['ineuron', 'data science ']]\n",
      "\n",
      "1). ineuron  : value in a dictionary\n",
      "2). ineuron  : item in list or tuple\n"
     ]
    }
   ],
   "source": [
    "print(f\"Given List : \\n\",l)\n",
    "print()\n",
    "lstIneuron = []\n",
    "count = 1\n",
    "for i in l:\n",
    "    if type(i) == int:\n",
    "        pass\n",
    "    elif (type(i) == tuple) or (type(i) == list):\n",
    "        for j in i:\n",
    "            if j == 'ineuron':\n",
    "                print(f\"{count}).\",j,\" : item in list or tuple\")\n",
    "                count+=1\n",
    "                lstIneuron.append(j)\n",
    "    elif type(i) == dict:\n",
    "        for k,v in i.items():\n",
    "            if k == 'ineuron':\n",
    "                print(f\"{count}).\",k,\" : key in a dictionary\")\n",
    "                count+=1\n",
    "                lstIneuron.append(k)\n",
    "            if v == 'ineuron':\n",
    "                print(f\"{count}).\",v,\" : value in a dictionary\")\n",
    "                count+=1\n",
    "                lstIneuron.append(v)\n",
    "    elif type(i) == set:\n",
    "        for j in i:\n",
    "            if j == 'ineuron':\n",
    "                print(f\"{count}).\",j,\" item in a set\")\n",
    "                count+=1\n",
    "                lstIneuron.append(j)\n",
    "                \n",
    "# print(lstIneuron)\n"
   ]
  },
  {
   "cell_type": "markdown",
   "id": "51f44405",
   "metadata": {},
   "source": [
    "<hr>Q10 :Try to find out a number of occurances of all the data "
   ]
  },
  {
   "cell_type": "code",
   "execution_count": 224,
   "id": "a82a5aa4",
   "metadata": {},
   "outputs": [
    {
     "name": "stdout",
     "output_type": "stream",
     "text": [
      "Items in given List\n",
      "[1, 2, 3, 4]\n",
      "(2, 3, 4, 5, 6)\n",
      "(3, 4, 5, 6, 7)\n",
      "{45, 4, 5, 23}\n",
      "{'k1': 'sudh', 'k2': 'ineuron', 'k3': 'kumar', 3: 6, 7: 8}\n",
      "['ineuron', 'data science ']\n",
      "\n",
      "\n",
      "[Data : Number Of Occurances]\n",
      "1 : 1\n",
      "2 : 2\n",
      "3 : 4\n",
      "4 : 4\n",
      "5 : 3\n",
      "6 : 3\n",
      "7 : 2\n",
      "45 : 1\n",
      "23 : 1\n",
      "k1 : 1\n",
      "sudh : 1\n",
      "k2 : 1\n",
      "ineuron : 2\n",
      "k3 : 1\n",
      "kumar : 1\n",
      "8 : 1\n",
      "data science  : 1\n"
     ]
    }
   ],
   "source": [
    "dictOccur = {}\n",
    "l2 = [1,1,2,3,4,5,\"Hello\",\"Neel\",\"Khush\",\"Khush\",[1,2,3,4,5,\"Neel\"],(1,2,3,4,5,\"Khush\"),{1,2,2,23,4,4,5,5,6,1,1},{1:\"Neel\",23:\"Khush\"}]\n",
    "for i in l:\n",
    "    if type(i) == int:\n",
    "        if i not in dictOccur.keys():\n",
    "            dictOccur[i] = 1\n",
    "        else:\n",
    "            dictOccur[i] += 1\n",
    "    \n",
    "    \n",
    "    if type(i) == str:\n",
    "        if i not in dictOccur.keys():\n",
    "            dictOccur[i] = 1\n",
    "        else:\n",
    "            dictOccur[i] += 1\n",
    "    \n",
    "    \n",
    "    if (type(i) == tuple) or (type(i) == list):\n",
    "        for j in i:\n",
    "            if j not in dictOccur.keys():\n",
    "                dictOccur[j] = 1\n",
    "            else:\n",
    "                dictOccur[j] += 1\n",
    "                \n",
    "    if type(i) == dict:\n",
    "        for k,v in i.items():\n",
    "            if k not in dictOccur.keys():\n",
    "                dictOccur[k] = 1\n",
    "            else:\n",
    "                dictOccur[k] += 1\n",
    "                \n",
    "            if v not in dictOccur.keys():\n",
    "                dictOccur[v] = 1\n",
    "            else:\n",
    "                dictOccur[v] += 1\n",
    "                \n",
    "    if type(i) == set:\n",
    "        for j in i:\n",
    "            if j not in dictOccur.keys():\n",
    "                dictOccur[j] = 1\n",
    "            else:\n",
    "                dictOccur[j] += 1\n",
    "\n",
    "                \n",
    "print(\"Items in given List\")                \n",
    "for i in l:\n",
    "    print(i)\n",
    "    \n",
    "    \n",
    "print()\n",
    "print()\n",
    "print(\"[Data : Number Of Occurances]\")\n",
    "for k,v in dictOccur.items():\n",
    "    print(f\"{k} : {v}\")"
   ]
  },
  {
   "cell_type": "markdown",
   "id": "1424ccb5",
   "metadata": {},
   "source": [
    "<hr>Q11 : Try to find out number of keys in dict element"
   ]
  },
  {
   "cell_type": "code",
   "execution_count": 225,
   "id": "9ddf29e2",
   "metadata": {},
   "outputs": [
    {
     "name": "stdout",
     "output_type": "stream",
     "text": [
      "5\n"
     ]
    }
   ],
   "source": [
    "for i in l:\n",
    "    if type(i) == dict:\n",
    "        print(len(i.keys()))"
   ]
  },
  {
   "cell_type": "markdown",
   "id": "12022293",
   "metadata": {},
   "source": [
    "<hr>Q12 : Try to filter out all the string data "
   ]
  },
  {
   "cell_type": "code",
   "execution_count": 226,
   "id": "9ff27d3a",
   "metadata": {},
   "outputs": [
    {
     "name": "stdout",
     "output_type": "stream",
     "text": [
      "Given List : \n",
      " [[1, 2, 3, 4], (2, 3, 4, 5, 6), (3, 4, 5, 6, 7), {45, 4, 5, 23}, {'k1': 'sudh', 'k2': 'ineuron', 'k3': 'kumar', 3: 6, 7: 8}, ['ineuron', 'data science ']]\n",
      "\n",
      "1). k1  : key in a dictionary\n",
      "2). sudh  : value in a dictionary\n",
      "3). k2  : key in a dictionary\n",
      "4). ineuron  : value in a dictionary\n",
      "5). k3  : key in a dictionary\n",
      "6). kumar  : value in a dictionary\n",
      "7). ineuron  : item in list or tuple\n",
      "8). data science   : item in list or tuple\n"
     ]
    }
   ],
   "source": [
    "print(f\"Given List : \\n\",l)\n",
    "print()\n",
    "\n",
    "lstString = []\n",
    "count = 1\n",
    "for i in l:\n",
    "    if type(i) == int:\n",
    "        pass\n",
    "    elif type(i) == str:\n",
    "        print(f\"{count}).\",i,\" : individual item\")\n",
    "        count+=1\n",
    "        lstString.append(i)\n",
    "    elif (type(i) == tuple) or (type(i) == list):\n",
    "        for j in i:\n",
    "            if type(j) == str:\n",
    "                print(f\"{count}).\",j,\" : item in list or tuple\")\n",
    "                count+=1\n",
    "                lstIneuron.append(j)\n",
    "    elif type(i) == dict:\n",
    "        for k,v in i.items():\n",
    "            if type(k) == str:\n",
    "                print(f\"{count}).\",k,\" : key in a dictionary\")\n",
    "                count+=1\n",
    "                lstString.append(k)\n",
    "            if type(v) == str:\n",
    "                print(f\"{count}).\",v,\" : value in a dictionary\")\n",
    "                count+=1\n",
    "                lstString.append(v)\n",
    "    elif type(i) == set:\n",
    "        for j in i:\n",
    "            if type(j) == str:\n",
    "                print(f\"{count}).\",j,\" item in a set\")\n",
    "                count+=1\n",
    "                lstString.append(j)\n",
    "                \n",
    "# print(lstIneuron)"
   ]
  },
  {
   "cell_type": "markdown",
   "id": "0848b739",
   "metadata": {},
   "source": [
    "<hr>Q13 : Try to Find  out alphanum in data"
   ]
  },
  {
   "cell_type": "code",
   "execution_count": 227,
   "id": "07149256",
   "metadata": {},
   "outputs": [
    {
     "name": "stdout",
     "output_type": "stream",
     "text": [
      "Given List : \n",
      " [[1, 2, 3, 4], (2, 3, 4, 5, 6), (3, 4, 5, 6, 7), {45, 4, 5, 23}, {'k1': 'sudh', 'k2': 'ineuron', 'k3': 'kumar', 3: 6, 7: 8}, ['ineuron', 'data science ']]\n",
      "\n",
      "1). k1  : key in a dictionary\n",
      "2). sudh  : value in a dictionary\n",
      "3). k2  : key in a dictionary\n",
      "4). ineuron  : value in a dictionary\n",
      "5). k3  : key in a dictionary\n",
      "6). kumar  : value in a dictionary\n",
      "7). ineuron  : item in list or tuple\n"
     ]
    }
   ],
   "source": [
    "print(f\"Given List : \\n\",l)\n",
    "print()\n",
    "\n",
    "lstString = []\n",
    "count = 1\n",
    "for i in l:\n",
    "    if type(i) == int:\n",
    "        pass\n",
    "    elif type(i) == str and i.isalnum():\n",
    "        print(f\"{count}).\",i,\" : individual item\")\n",
    "        count+=1\n",
    "            \n",
    "    elif (type(i) == tuple) or (type(i) == list):\n",
    "        for j in i:\n",
    "            if type(j) == str  and j.isalnum():\n",
    "                print(f\"{count}).\",j,\" : item in list or tuple\")\n",
    "                count+=1\n",
    "                \n",
    "    elif type(i) == dict:\n",
    "        for k,v in i.items():\n",
    "            if type(k) == str and k.isalnum():\n",
    "                print(f\"{count}).\",k,\" : key in a dictionary\")\n",
    "                count+=1\n",
    "            if type(v) == str and v.isalnum():\n",
    "                print(f\"{count}).\",v,\" : value in a dictionary\")\n",
    "                count+=1\n",
    "                \n",
    "    elif type(i) == set:\n",
    "        for j in i:\n",
    "            if type(j) == str and j.isalnum():\n",
    "                print(f\"{count}).\",j,\" item in a set\")\n",
    "                count+=1\n",
    "                \n",
    "# print(lstIneuron)"
   ]
  },
  {
   "cell_type": "markdown",
   "id": "3f49919a",
   "metadata": {},
   "source": [
    "<hr>Q14 : Try to find out multiplication of all numeric value in  the individual collection inside dataset "
   ]
  },
  {
   "cell_type": "code",
   "execution_count": 228,
   "id": "6fcf0de9",
   "metadata": {},
   "outputs": [
    {
     "name": "stdout",
     "output_type": "stream",
     "text": [
      "Given List : \n",
      " [[1, 2, 3, 4], (2, 3, 4, 5, 6), (3, 4, 5, 6, 7), {45, 4, 5, 23}, {'k1': 'sudh', 'k2': 'ineuron', 'k3': 'kumar', 3: 6, 7: 8}, ['ineuron', 'data science ']]\n",
      "\n",
      "{'Collection_1': 24, 'Collection_2': 720, 'Collection_3': 2520, 'Collection_4': 20700, 'Collection_dictIntegerKeys_5': 21, 'Collection_dictIntegerValues_6': 48}\n"
     ]
    }
   ],
   "source": [
    "print(\"Given List : \\n\",l)\n",
    "print()\n",
    "\n",
    "resDict = {}\n",
    "count = 1\n",
    "\n",
    "\n",
    "for i in l:\n",
    "    if type(i)==list or type(i)==tuple or type(i)==set:\n",
    "        multiRes = 1\n",
    "        for j in i:\n",
    "            notIntFound = False\n",
    "            if type(j) != int:\n",
    "                notIntFound = True\n",
    "                break\n",
    "            multiRes*=j\n",
    "        \n",
    "        if notIntFound == False:\n",
    "            keyName = \"Collection_\"+str(count)\n",
    "            count+=1\n",
    "            resDict[keyName] = multiRes\n",
    "    \n",
    "    elif type(i) == dict:\n",
    "        keyMultiRes = 1\n",
    "        valueMultiRes = 1\n",
    "        for k,v in i.items():\n",
    "            if type(k) == int:\n",
    "                keyMultiRes*=k\n",
    "            if type(v) == int:\n",
    "                valueMultiRes*=v\n",
    "                \n",
    "        keyNameDictKeys = \"Collection_dictIntegerKeys_\"+str(count)\n",
    "        count+=1\n",
    "        resDict[keyNameDictKeys] = keyMultiRes\n",
    "        \n",
    "        keyNameDictValues = \"Collection_dictIntegerValues_\"+str(count)\n",
    "        count+=1\n",
    "        resDict[keyNameDictValues] = valueMultiRes\n",
    "        \n",
    "        \n",
    "\n",
    "print(resDict)\n",
    "            "
   ]
  },
  {
   "cell_type": "markdown",
   "id": "ba0d29b2",
   "metadata": {},
   "source": [
    "<hr>Q15 : Try to unwrape all the collection inside collection and create a flat list "
   ]
  },
  {
   "cell_type": "code",
   "execution_count": 229,
   "id": "86735b68",
   "metadata": {},
   "outputs": [
    {
     "name": "stdout",
     "output_type": "stream",
     "text": [
      "Given List : \n",
      " [[1, 2, 3, 4], (2, 3, 4, 5, 6), (3, 4, 5, 6, 7), {45, 4, 5, 23}, {'k1': 'sudh', 'k2': 'ineuron', 'k3': 'kumar', 3: 6, 7: 8}, ['ineuron', 'data science ']]\n",
      "\n",
      "Flattened List : \n",
      " [1, 2, 3, 4, 2, 3, 4, 5, 6, 3, 4, 5, 6, 7, 45, 4, 5, 23, 'k1', 'sudh', 'k2', 'ineuron', 'k3', 'kumar', 3, 6, 7, 8, 'ineuron', 'data science ']\n"
     ]
    }
   ],
   "source": [
    "flatLst = []\n",
    "for i in l:\n",
    "    if type(i) == int or type(i) == str:\n",
    "        flatLst.append(i)\n",
    "    elif (type(i) == tuple) or (type(i) == list) or (type(i) == set):\n",
    "        for j in i:\n",
    "            flatLst.append(j)\n",
    "                \n",
    "    elif type(i) == dict:\n",
    "        for k,v in i.items():\n",
    "            flatLst.append(k)\n",
    "            flatLst.append(v)\n",
    "    \n",
    "print(\"Given List : \\n\",l)\n",
    "print()\n",
    "print(\"Flattened List : \\n\",flatLst)"
   ]
  }
 ],
 "metadata": {
  "kernelspec": {
   "display_name": "Python 3 (ipykernel)",
   "language": "python",
   "name": "python3"
  },
  "language_info": {
   "codemirror_mode": {
    "name": "ipython",
    "version": 3
   },
   "file_extension": ".py",
   "mimetype": "text/x-python",
   "name": "python",
   "nbconvert_exporter": "python",
   "pygments_lexer": "ipython3",
   "version": "3.9.7"
  }
 },
 "nbformat": 4,
 "nbformat_minor": 5
}
